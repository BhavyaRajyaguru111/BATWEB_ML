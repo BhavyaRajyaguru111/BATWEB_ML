{
 "cells": [
  {
   "cell_type": "code",
   "execution_count": 2,
   "id": "60fcebe1",
   "metadata": {},
   "outputs": [],
   "source": [
    "import numpy as np # linear algebra\n",
    "import pandas as pd"
   ]
  },
  {
   "cell_type": "code",
   "execution_count": 3,
   "id": "cb07ff15",
   "metadata": {},
   "outputs": [],
   "source": [
    "import os\n",
    "for dirname, _, filenames in os.walk('/kaggle/input'):\n",
    "    for filename in filenames:\n",
    "        print(os.path.join(dirname, filename))"
   ]
  },
  {
   "cell_type": "code",
   "execution_count": 4,
   "id": "3d5ac03f",
   "metadata": {},
   "outputs": [],
   "source": [
    "import pandas as pd\n",
    "import numpy as np\n",
    "import seaborn as sns\n",
    "import matplotlib.pyplot as plt\n",
    "import plotly.express as px"
   ]
  },
  {
   "cell_type": "code",
   "execution_count": 10,
   "id": "56e4b534",
   "metadata": {},
   "outputs": [],
   "source": [
    "df = pd.read_csv('phone.csv')"
   ]
  },
  {
   "cell_type": "code",
   "execution_count": 11,
   "id": "77c82ed6",
   "metadata": {},
   "outputs": [
    {
     "data": {
      "text/plain": [
       "(1020, 11)"
      ]
     },
     "execution_count": 11,
     "metadata": {},
     "output_type": "execute_result"
    }
   ],
   "source": [
    "df.shape"
   ]
  },
  {
   "cell_type": "code",
   "execution_count": 12,
   "id": "b7c2cb40",
   "metadata": {},
   "outputs": [
    {
     "name": "stdout",
     "output_type": "stream",
     "text": [
      "<class 'pandas.core.frame.DataFrame'>\n",
      "RangeIndex: 1020 entries, 0 to 1019\n",
      "Data columns (total 11 columns):\n",
      " #   Column     Non-Null Count  Dtype  \n",
      "---  ------     --------------  -----  \n",
      " 0   model      1019 non-null   object \n",
      " 1   price      1020 non-null   object \n",
      " 2   rating     879 non-null    float64\n",
      " 3   sim        1020 non-null   object \n",
      " 4   processor  1020 non-null   object \n",
      " 5   ram        1020 non-null   object \n",
      " 6   battery    1020 non-null   object \n",
      " 7   display    1020 non-null   object \n",
      " 8   camera     1019 non-null   object \n",
      " 9   card       1013 non-null   object \n",
      " 10  os         1003 non-null   object \n",
      "dtypes: float64(1), object(10)\n",
      "memory usage: 87.8+ KB\n"
     ]
    }
   ],
   "source": [
    "df.info()"
   ]
  },
  {
   "cell_type": "code",
   "execution_count": 13,
   "id": "7ddd7046",
   "metadata": {},
   "outputs": [
    {
     "data": {
      "text/plain": [
       "model          1\n",
       "price          0\n",
       "rating       141\n",
       "sim            0\n",
       "processor      0\n",
       "ram            0\n",
       "battery        0\n",
       "display        0\n",
       "camera         1\n",
       "card           7\n",
       "os            17\n",
       "dtype: int64"
      ]
     },
     "execution_count": 13,
     "metadata": {},
     "output_type": "execute_result"
    }
   ],
   "source": [
    "df.isnull().sum()"
   ]
  },
  {
   "cell_type": "code",
   "execution_count": 14,
   "id": "199e81de",
   "metadata": {},
   "outputs": [
    {
     "data": {
      "text/plain": [
       "0"
      ]
     },
     "execution_count": 14,
     "metadata": {},
     "output_type": "execute_result"
    }
   ],
   "source": [
    "df.duplicated().sum()"
   ]
  },
  {
   "cell_type": "code",
   "execution_count": 15,
   "id": "26d7c053",
   "metadata": {},
   "outputs": [
    {
     "data": {
      "text/html": [
       "<div>\n",
       "<style scoped>\n",
       "    .dataframe tbody tr th:only-of-type {\n",
       "        vertical-align: middle;\n",
       "    }\n",
       "\n",
       "    .dataframe tbody tr th {\n",
       "        vertical-align: top;\n",
       "    }\n",
       "\n",
       "    .dataframe thead th {\n",
       "        text-align: right;\n",
       "    }\n",
       "</style>\n",
       "<table border=\"1\" class=\"dataframe\">\n",
       "  <thead>\n",
       "    <tr style=\"text-align: right;\">\n",
       "      <th></th>\n",
       "      <th>model</th>\n",
       "      <th>price</th>\n",
       "      <th>rating</th>\n",
       "      <th>sim</th>\n",
       "      <th>processor</th>\n",
       "      <th>ram</th>\n",
       "      <th>battery</th>\n",
       "      <th>display</th>\n",
       "      <th>camera</th>\n",
       "      <th>card</th>\n",
       "      <th>os</th>\n",
       "    </tr>\n",
       "  </thead>\n",
       "  <tbody>\n",
       "    <tr>\n",
       "      <th>763</th>\n",
       "      <td>Tecno Pova Neo 5G</td>\n",
       "      <td>?15,499</td>\n",
       "      <td>71.0</td>\n",
       "      <td>Dual Sim, 3G, 4G, VoLTE, Wi-Fi</td>\n",
       "      <td>Dimensity 810 5G, Octa Core, 2.4?GHz Processor</td>\n",
       "      <td>4?GB RAM, 128?GB inbuilt</td>\n",
       "      <td>6000?mAh Battery with 18W Fast Charging</td>\n",
       "      <td>6.8 inches, 1080?x?2400?px, 120 Hz Display wit...</td>\n",
       "      <td>50?MP Dual Rear &amp; 8?MP Front Camera</td>\n",
       "      <td>Memory Card Supported, upto 1?TB</td>\n",
       "      <td>Android v12</td>\n",
       "    </tr>\n",
       "    <tr>\n",
       "      <th>145</th>\n",
       "      <td>Samsung Galaxy F04</td>\n",
       "      <td>?8,499</td>\n",
       "      <td>68.0</td>\n",
       "      <td>Dual Sim, 3G, 4G, VoLTE, Wi-Fi</td>\n",
       "      <td>Helio P35, Octa Core, 2.3?GHz Processor</td>\n",
       "      <td>4?GB RAM, 64?GB inbuilt</td>\n",
       "      <td>5000?mAh Battery with 15W Fast Charging</td>\n",
       "      <td>6.5 inches, 720?x?1600?px Display with Water D...</td>\n",
       "      <td>13?MP + 2?MP Dual Rear &amp; 5?MP Front Camera</td>\n",
       "      <td>Memory Card Supported, upto 1?TB</td>\n",
       "      <td>Android v12</td>\n",
       "    </tr>\n",
       "    <tr>\n",
       "      <th>619</th>\n",
       "      <td>Xiaomi Redmi Note 11S (6GB RAM + 128GB)</td>\n",
       "      <td>?15,499</td>\n",
       "      <td>81.0</td>\n",
       "      <td>Dual Sim, 3G, 4G, VoLTE, Wi-Fi, IR Blaster</td>\n",
       "      <td>Helio  G96, Octa Core, 2.05?GHz Processor</td>\n",
       "      <td>6?GB RAM, 128?GB inbuilt</td>\n",
       "      <td>5000?mAh Battery with 33W Fast Charging</td>\n",
       "      <td>6.43 inches, 1080?x?2400?px, 90 Hz Display wit...</td>\n",
       "      <td>108?MP Quad Rear &amp; 16?MP Front Camera</td>\n",
       "      <td>Memory Card Supported, upto 512?GB</td>\n",
       "      <td>Android v11</td>\n",
       "    </tr>\n",
       "    <tr>\n",
       "      <th>979</th>\n",
       "      <td>Xiaomi Redmi 9A (6GB RAM + 128GB)</td>\n",
       "      <td>?10,990</td>\n",
       "      <td>69.0</td>\n",
       "      <td>Dual Sim, 3G, 4G, VoLTE, Wi-Fi</td>\n",
       "      <td>Helio G25, Octa Core, 2?GHz Processor</td>\n",
       "      <td>6?GB RAM, 128?GB inbuilt</td>\n",
       "      <td>5000?mAh Battery</td>\n",
       "      <td>6.53 inches, 720?x?1600?px Display with Water ...</td>\n",
       "      <td>13?MP Rear &amp; 5?MP Front Camera</td>\n",
       "      <td>Memory Card Supported, upto 512?GB</td>\n",
       "      <td>Android v10</td>\n",
       "    </tr>\n",
       "    <tr>\n",
       "      <th>121</th>\n",
       "      <td>OnePlus Nord 2T (12GB RAM + 256GB)</td>\n",
       "      <td>?33,900</td>\n",
       "      <td>85.0</td>\n",
       "      <td>Dual Sim, 3G, 4G, 5G, VoLTE, Wi-Fi, NFC</td>\n",
       "      <td>Dimensity  1300, Octa Core, 3?GHz Processor</td>\n",
       "      <td>12?GB RAM, 256?GB inbuilt</td>\n",
       "      <td>4500?mAh Battery with 80W Fast Charging</td>\n",
       "      <td>6.43 inches, 1080?x?2400?px, 90 Hz Display wit...</td>\n",
       "      <td>50?MP + 8?MP + 2?MP Triple Rear &amp; 32?MP Front ...</td>\n",
       "      <td>Android v12</td>\n",
       "      <td>No FM Radio</td>\n",
       "    </tr>\n",
       "  </tbody>\n",
       "</table>\n",
       "</div>"
      ],
      "text/plain": [
       "                                       model    price  rating  \\\n",
       "763                        Tecno Pova Neo 5G  ?15,499    71.0   \n",
       "145                       Samsung Galaxy F04   ?8,499    68.0   \n",
       "619  Xiaomi Redmi Note 11S (6GB RAM + 128GB)  ?15,499    81.0   \n",
       "979        Xiaomi Redmi 9A (6GB RAM + 128GB)  ?10,990    69.0   \n",
       "121       OnePlus Nord 2T (12GB RAM + 256GB)  ?33,900    85.0   \n",
       "\n",
       "                                            sim  \\\n",
       "763              Dual Sim, 3G, 4G, VoLTE, Wi-Fi   \n",
       "145              Dual Sim, 3G, 4G, VoLTE, Wi-Fi   \n",
       "619  Dual Sim, 3G, 4G, VoLTE, Wi-Fi, IR Blaster   \n",
       "979              Dual Sim, 3G, 4G, VoLTE, Wi-Fi   \n",
       "121     Dual Sim, 3G, 4G, 5G, VoLTE, Wi-Fi, NFC   \n",
       "\n",
       "                                          processor  \\\n",
       "763  Dimensity 810 5G, Octa Core, 2.4?GHz Processor   \n",
       "145         Helio P35, Octa Core, 2.3?GHz Processor   \n",
       "619       Helio  G96, Octa Core, 2.05?GHz Processor   \n",
       "979           Helio G25, Octa Core, 2?GHz Processor   \n",
       "121     Dimensity  1300, Octa Core, 3?GHz Processor   \n",
       "\n",
       "                           ram                                  battery  \\\n",
       "763   4?GB RAM, 128?GB inbuilt  6000?mAh Battery with 18W Fast Charging   \n",
       "145    4?GB RAM, 64?GB inbuilt  5000?mAh Battery with 15W Fast Charging   \n",
       "619   6?GB RAM, 128?GB inbuilt  5000?mAh Battery with 33W Fast Charging   \n",
       "979   6?GB RAM, 128?GB inbuilt                         5000?mAh Battery   \n",
       "121  12?GB RAM, 256?GB inbuilt  4500?mAh Battery with 80W Fast Charging   \n",
       "\n",
       "                                               display  \\\n",
       "763  6.8 inches, 1080?x?2400?px, 120 Hz Display wit...   \n",
       "145  6.5 inches, 720?x?1600?px Display with Water D...   \n",
       "619  6.43 inches, 1080?x?2400?px, 90 Hz Display wit...   \n",
       "979  6.53 inches, 720?x?1600?px Display with Water ...   \n",
       "121  6.43 inches, 1080?x?2400?px, 90 Hz Display wit...   \n",
       "\n",
       "                                                camera  \\\n",
       "763                50?MP Dual Rear & 8?MP Front Camera   \n",
       "145         13?MP + 2?MP Dual Rear & 5?MP Front Camera   \n",
       "619              108?MP Quad Rear & 16?MP Front Camera   \n",
       "979                     13?MP Rear & 5?MP Front Camera   \n",
       "121  50?MP + 8?MP + 2?MP Triple Rear & 32?MP Front ...   \n",
       "\n",
       "                                   card           os  \n",
       "763    Memory Card Supported, upto 1?TB  Android v12  \n",
       "145    Memory Card Supported, upto 1?TB  Android v12  \n",
       "619  Memory Card Supported, upto 512?GB  Android v11  \n",
       "979  Memory Card Supported, upto 512?GB  Android v10  \n",
       "121                         Android v12  No FM Radio  "
      ]
     },
     "execution_count": 15,
     "metadata": {},
     "output_type": "execute_result"
    }
   ],
   "source": [
    "df.sample(5)\n"
   ]
  },
  {
   "cell_type": "code",
   "execution_count": 16,
   "id": "e59604fa",
   "metadata": {},
   "outputs": [],
   "source": [
    "df[\"rating\"].fillna(round(df[\"rating\"].mean()),inplace=True)\n",
    "df[\"os\"].fillna(df[\"os\"].mode(),inplace=True)\n",
    "df.dropna(inplace=True)\n"
   ]
  },
  {
   "cell_type": "code",
   "execution_count": 17,
   "id": "99f5ea92",
   "metadata": {},
   "outputs": [
    {
     "data": {
      "text/plain": [
       "0"
      ]
     },
     "execution_count": 17,
     "metadata": {},
     "output_type": "execute_result"
    }
   ],
   "source": [
    "df.isnull().sum().sum()\n"
   ]
  },
  {
   "cell_type": "code",
   "execution_count": 18,
   "id": "f4ce8c9d",
   "metadata": {},
   "outputs": [
    {
     "name": "stdout",
     "output_type": "stream",
     "text": [
      "model - 1002\n",
      "price - 399\n",
      "rating - 30\n",
      "sim - 25\n",
      "processor - 289\n",
      "ram - 45\n",
      "battery - 244\n",
      "display - 359\n",
      "camera - 280\n",
      "card - 61\n",
      "os - 48\n"
     ]
    }
   ],
   "source": [
    "columns=df.columns\n",
    "for i in columns:\n",
    "    print(i,\"-\",df[i].nunique())\n"
   ]
  },
  {
   "cell_type": "code",
   "execution_count": 19,
   "id": "4e275e4d",
   "metadata": {},
   "outputs": [],
   "source": [
    "df.replace(\"\\?\",\"\",inplace=True,regex=True)\n"
   ]
  },
  {
   "cell_type": "code",
   "execution_count": 20,
   "id": "9e2a3da3",
   "metadata": {},
   "outputs": [],
   "source": [
    "battery_ram_shift=df[[\"battery\"]][(~df[\"battery\"].str.contains(\"Camera\"))&(~df[\"battery\"].str.contains(\"inches\"))&(~df[\"battery\"].str.contains(\"mAh\"))]\n",
    "battery_camera_shift=df[[\"battery\"]][(~df[\"battery\"].str.contains(\"RAM\"))&(~df[\"battery\"].str.contains(\"inches\"))&(~df[\"battery\"].str.contains(\"mAh\"))]\n",
    "battery_ram_shift.rename(columns={\"battery\":\"ram\"},inplace=True)\n",
    "battery_camera_shift.rename(columns={\"battery\":\"camera\"},inplace=True)"
   ]
  },
  {
   "cell_type": "code",
   "execution_count": 21,
   "id": "5a410370",
   "metadata": {},
   "outputs": [],
   "source": [
    "camera_memory_shift=df[[\"camera\"]][(~df[\"camera\"].str.contains(\"Camera\",regex=True))&(~df[\"camera\"].str.contains(\"Display\",regex=True))]\n",
    "camera_Display_shift=df[[\"camera\"]][(~df[\"camera\"].str.contains(\"Camera\",regex=True))&(~df[\"camera\"].str.contains(\"Memory\",regex=True))]\n",
    "camera_memory_shift.rename(columns={\"camera\":\"card\"},inplace=True)\n",
    "camera_Display_shift.rename(columns={\"camera\":\"display\"},inplace=True)"
   ]
  },
  {
   "cell_type": "code",
   "execution_count": 22,
   "id": "ac0e7036",
   "metadata": {},
   "outputs": [],
   "source": [
    "card_os_shift=df[[\"card\"]][(~df['card'].str.contains(\"Memory\"))&(~df['card'].str.contains(\"Camera\"))&(~df['card'].str.contains(\"Display\"))]\n",
    "card_camera_shift=df[[\"card\"]][(~df['card'].str.contains(\"Memory\"))&(~df['card'].str.contains(\"Android\"))&(~df['card'].str.contains(\"Bluetooth\"))&(~df['card'].str.contains(\"OS\"))&(df['card'].str.contains(\"Camera\"))]\n",
    "card_Display_shift=df[[\"card\"]][(~df['card'].str.contains(\"Memory\"))&(df['card'].str.contains(\"Display\"))]\n",
    "card_camera_shift.rename(columns={\"card\":\"camera\"},inplace=True)\n",
    "card_Display_shift.rename(columns={\"card\":\"display\"},inplace=True)\n",
    "card_os_shift.rename(columns={\"card\":\"os\"},inplace=True)"
   ]
  },
  {
   "cell_type": "code",
   "execution_count": 23,
   "id": "27753eb5",
   "metadata": {},
   "outputs": [],
   "source": [
    "display_battery_shift=df[[\"display\"]][(~df['display'].str.contains(\"Display\"))&(df['display'].str.contains(\"Battery\"))]\n",
    "display_camera_shift=df[[\"display\"]][(~df['display'].str.contains(\"Display\"))&(df['display'].str.contains(\"Camera\"))]\n",
    "display_camera_shift.rename(columns={\"display\":\"camera\"},inplace=True)\n",
    "display_battery_shift.rename(columns={\"display\":\"battery\"},inplace=True)"
   ]
  },
  {
   "cell_type": "code",
   "execution_count": 24,
   "id": "ea4d05e1",
   "metadata": {},
   "outputs": [],
   "source": [
    "os_card_shift=df[[\"os\"]][df['os'].str.contains(\"Memory\")]\n",
    "os_camera_shift=df[[\"os\"]][df['os'].str.contains(\"Camera\")]\n",
    "os_camera_shift.rename(columns={\"os\":\"camera\"},inplace=True)\n",
    "os_card_shift.rename(columns={\"os\":\"card\"},inplace=True)"
   ]
  },
  {
   "cell_type": "code",
   "execution_count": 25,
   "id": "cf11bfa4",
   "metadata": {},
   "outputs": [],
   "source": [
    "processor_sim_shift=df[[\"processor\"]][(df['processor'].str.contains(\"No\"))]\n",
    "processor_sim_shift.rename(columns={\"processor\":\"sim\"},inplace=True)"
   ]
  },
  {
   "cell_type": "code",
   "execution_count": 26,
   "id": "57a99b04",
   "metadata": {},
   "outputs": [],
   "source": [
    "ram_battery_shift=df[['ram']][(~df['ram'].str.contains(\"RAM\"))&(df['ram'].str.contains(\"Battery\"))]\n",
    "ram_os_shift=df[['ram']][(~df['ram'].str.contains(\"GB\"))&(df['ram'].str.contains(\"T\"))]\n",
    "ram_display_shift=df[['ram']][(df['ram'].str.contains(\"Display\"))]\n",
    "ram_sim_shift=df[['ram']][(df['ram'].str.contains(\"No\"))]\n",
    "ram_processor_shift=df[['ram']][(df['ram'].str.contains(\"Core\"))]"
   ]
  },
  {
   "cell_type": "code",
   "execution_count": 27,
   "id": "ff437cfb",
   "metadata": {},
   "outputs": [],
   "source": [
    "ram_battery_shift.rename(columns={\"ram\":\"battery\"},inplace=True)\n",
    "ram_display_shift.rename(columns={\"ram\":\"display\"},inplace=True)\n",
    "ram_os_shift.rename(columns={\"ram\":\"os\"},inplace=True)\n",
    "ram_processor_shift.rename(columns={\"ram\":\"proessor\"},inplace=True)\n",
    "ram_sim_shift.rename(columns={\"ram\":\"sim\"},inplace=True)"
   ]
  },
  {
   "cell_type": "code",
   "execution_count": 28,
   "id": "29e36d03",
   "metadata": {},
   "outputs": [],
   "source": [
    "df.update(battery_camera_shift)\n",
    "df.update(battery_ram_shift)\n",
    "df.update(processor_sim_shift)\n",
    "df.update(ram_battery_shift)\n",
    "df.update(ram_display_shift)\n",
    "df.update(ram_os_shift)\n",
    "df.update(ram_processor_shift)\n",
    "df.update(ram_sim_shift)\n",
    "df.update(display_battery_shift)\n",
    "df.update(display_camera_shift)\n",
    "df.update(camera_Display_shift)\n",
    "df.update(camera_memory_shift)\n",
    "df.update(card_camera_shift)\n",
    "df.update(card_Display_shift)\n",
    "df.update(card_os_shift)\n",
    "df.update(os_camera_shift)\n",
    "df.update(os_card_shift)"
   ]
  },
  {
   "cell_type": "code",
   "execution_count": 29,
   "id": "7d044063",
   "metadata": {},
   "outputs": [],
   "source": [
    "df[\"battery\"]=np.where(df[\"battery\"].str.contains(\"mAh\"),df[\"battery\"],df[\"battery\"].mode())\n",
    "df[\"card\"]=np.where(df[\"card\"].str.contains(\"Memory\"),df[\"card\"],df[\"card\"].mode())\n",
    "df[\"os\"]=np.where(df[\"os\"].str.contains(\"Memory\"),df[\"os\"].mode(),df[\"os\"])\n",
    "df[\"os\"]=np.where(df[\"os\"].str.contains(\"Camera\"),df[\"os\"].mode(),df[\"os\"])\n",
    "df[\"ram\"]=np.where(df[\"ram\"].str.contains(\"Display\"),df[\"ram\"].mode(),df[\"ram\"])\n",
    "df[\"ram\"]=np.where(df[\"ram\"].str.contains(\"Battery\"),df[\"ram\"].mode(),df[\"ram\"])\n",
    "df[\"display\"]=np.where(df[\"display\"].str.contains(\"Display\"),df[\"display\"],df[\"display\"].mode())\n",
    "df[\"processor\"]=np.where(df[\"processor\"].str.contains(\"No\"),df[\"processor\"].mode(),df[\"processor\"])\n",
    "df[\"processor\"]=np.where(df[\"processor\"].str.contains(\"RAM\"),df[\"processor\"].mode(),df[\"processor\"])"
   ]
  },
  {
   "cell_type": "code",
   "execution_count": 30,
   "id": "1b1c3656",
   "metadata": {},
   "outputs": [],
   "source": [
    "battery=df['battery'].str.split(\"with\",expand=True).rename(columns={0:'battery_capacity', 1:'charging_capacity'})\n",
    "battery['battery_capacity'].replace(\"mAh Battery\",\"\",inplace=True,regex=True)\n",
    "battery['battery_capacity']=battery['battery_capacity'].str.strip()"
   ]
  },
  {
   "cell_type": "code",
   "execution_count": 31,
   "id": "ad7df9d1",
   "metadata": {},
   "outputs": [],
   "source": [
    "battery['charging_capacity'].replace(\"W Fast Charging\",\"\",inplace=True,regex=True)\n",
    "battery['charging_capacity'].replace(\"Fast Charging\",33,inplace=True,regex=True)\n",
    "battery['charging_capacity']=battery['charging_capacity'].str.strip()"
   ]
  },
  {
   "cell_type": "code",
   "execution_count": 32,
   "id": "024ed2ea",
   "metadata": {},
   "outputs": [
    {
     "data": {
      "text/plain": [
       "array(['5000', '3279', '4980', '4500', '3240', '4700', '4830', '4800',\n",
       "       '4323', '3110', '5200', '6000', '4325', '4600', '4200', '3500',\n",
       "       '3095', '4020', '3200', '4400', '4310', '4820', '3700', '5160',\n",
       "       '5080', '3900', '4410', '5020', '2800', '4352', '1450', '4520',\n",
       "       '4810', '4000', '2050', '2150', '4610', '5100', '7000', '4300',\n",
       "       '5500', '4050', '4355', '3060', '1500', '5003', '2438', '4250',\n",
       "       '3300', '4450', '4614', '4870', '4030', '4350', '4100', '21000',\n",
       "       '2000', '4860', '2275', '4230', '1900', '3020', '4730', '3520',\n",
       "       '4080', '2500', '5050', '5600', '4470', '3360', '3000', '2230',\n",
       "       '9800', '1150', '1821', '1480', '4015', '3285', '4360', '3315',\n",
       "       '1200', '3600', '3100', '22000', '2400', '1020', '4532', '1800',\n",
       "       '5065', '4620', '4780', '3730', '3400', '2730', '5180', '800',\n",
       "       '8000'], dtype=object)"
      ]
     },
     "execution_count": 32,
     "metadata": {},
     "output_type": "execute_result"
    }
   ],
   "source": [
    "battery['battery_capacity'].unique()"
   ]
  },
  {
   "cell_type": "code",
   "execution_count": 33,
   "id": "9c3b80f8",
   "metadata": {},
   "outputs": [
    {
     "data": {
      "text/plain": [
       "array(['100', '33', '15', nan, '67', '25', '120', '80', '18', '45', '10',\n",
       "       '66', '44', None, '210', '30', '150', '68', '50', '20', '65',\n",
       "       '180', '125', '40', '60', '200', '240', '19', '21', '135', '165',\n",
       "       '22.5', '27', '55', '68.2'], dtype=object)"
      ]
     },
     "execution_count": 33,
     "metadata": {},
     "output_type": "execute_result"
    }
   ],
   "source": [
    "battery['charging_capacity'].unique()\n"
   ]
  },
  {
   "cell_type": "code",
   "execution_count": 34,
   "id": "548e70c0",
   "metadata": {},
   "outputs": [],
   "source": [
    "battery['charging_capacity'].fillna(33,inplace=True)\n"
   ]
  },
  {
   "cell_type": "code",
   "execution_count": 35,
   "id": "523b4778",
   "metadata": {},
   "outputs": [],
   "source": [
    "camera=df['camera'].str.split(\"&\",expand=True).rename(columns={0:'Rear Camera', 1:'Front Camera'})\n",
    "frontCam=camera['Front Camera'].str.split(\"+\",expand=True).rename(columns={0:'Main Camera', 1:'Additional Camera'})\n",
    "frontCam['Main Camera'].replace(\"Front Camera\",\"\",inplace=True,regex=True)\n",
    "frontCam['Main Camera'].replace({\"MP\":\"\",\"Dual\":\"\",\"Main\":16},inplace=True,regex=True)"
   ]
  },
  {
   "cell_type": "code",
   "execution_count": 36,
   "id": "ce963571",
   "metadata": {},
   "outputs": [],
   "source": [
    "frontCam['Main Camera']=frontCam['Main Camera'].str.strip()\n",
    "camera['Front Camera']=frontCam['Main Camera']\n",
    "camera['Rear Camera'].replace({\"Triple Rear\":\"\",\"MP\":\"\"},regex=True,inplace=True)\n",
    "Rear_Camera=camera['Rear Camera'].str.split(\"+\",expand=True).rename(columns={0:'Primary Camera', 1:'Secondary Camera', 2:'Additional Camera'})"
   ]
  },
  {
   "cell_type": "code",
   "execution_count": 37,
   "id": "e447403d",
   "metadata": {},
   "outputs": [
    {
     "data": {
      "text/plain": [
       "array(['50 ', '64 ', '108 ', '12 ', '200 ', '200 Quad Rear ', '13 ',\n",
       "       '48 ', '108 Quad Rear ', '50 Quad Rear ', '13 Rear ',\n",
       "       '64 Quad Rear ', '8 Rear ', '13 Dual Rear ', '48 Quad Rear ',\n",
       "       '50.3 Quad Rear ', '50.3 ', '8 Dual Rear ', '12.2 ', '5 Rear ',\n",
       "       '5 Rear Camera', '50 Dual Rear ', '8 ', '12 Rear ',\n",
       "       '200 Penta Rear ', '2 Rear Camera', '54 ', '16 ',\n",
       "       '0.3 Rear Camera', '2 Rear ', '48  ', '12 Quad Rear ', '20 ',\n",
       "       '12.2 Rear ', '1.3 Rear Camera', 'No Rear Camera', '16 Rear ',\n",
       "       '13 Quad Rear ', '5 ', '20 Rear ', '47.2 ', '40 Quad Rear ',\n",
       "       '48 Quad Rear Camera', '24 '], dtype=object)"
      ]
     },
     "execution_count": 37,
     "metadata": {},
     "output_type": "execute_result"
    }
   ],
   "source": [
    "Rear_Camera['Primary Camera'].unique()\n"
   ]
  },
  {
   "cell_type": "code",
   "execution_count": 38,
   "id": "6b13c48c",
   "metadata": {},
   "outputs": [],
   "source": [
    "Rear_Camera['Primary Camera'].replace({\"Quad Rear\":\"\",\"Rear\":\"\",\"Rear Camera\":\"\"},regex=True,inplace=True)\n",
    "Rear_Camera['Primary Camera'].replace({\"Dual\":\"\",\"Camera\":\"\",\"Penta\":\"\",\"No\":0},regex=True,inplace=True)\n",
    "Rear_Camera['Primary Camera']=Rear_Camera['Primary Camera'].str.strip()"
   ]
  },
  {
   "cell_type": "code",
   "execution_count": 39,
   "id": "2f3564bd",
   "metadata": {},
   "outputs": [
    {
     "data": {
      "text/plain": [
       "array([' 48 ', ' 2 ', ' 8 ', ' 12 Dual Rear ', ' 50 Dual Rear ',\n",
       "       ' 2 Dual Rear ', None, ' 12 ', ' 13 ', ' 0.3 Dual Rear ',\n",
       "       ' 8 Dual Rear ', ' 10 ', ' 50 ', ' 5 ', ' Depth Sensor Dual Rear ',\n",
       "       ' 2  ', ' 5 Dual Rear ', ' 16 ', ' 12.2 Dual Rear ',\n",
       "       ' Depth Sensor ', ' 20 ', ' 50  ', ' 16 Dual Rear ', ' 64 ',\n",
       "       ' 13 Dual Rear ', ' 0.08 Dual Rear ', ' 1.9 Dual Rear ', ' 3 ',\n",
       "       ' 12.2 '], dtype=object)"
      ]
     },
     "execution_count": 39,
     "metadata": {},
     "output_type": "execute_result"
    }
   ],
   "source": [
    "Rear_Camera['Secondary Camera'].unique()"
   ]
  },
  {
   "cell_type": "code",
   "execution_count": 40,
   "id": "00fd4f71",
   "metadata": {},
   "outputs": [
    {
     "data": {
      "text/plain": [
       "array([' 48 ', ' 2 ', ' 8 ', ' 12  ', ' 50  ', ' 2  ', None, ' 12 ',\n",
       "       ' 13 ', ' 0.3  ', ' 8  ', ' 10 ', ' 50 ', ' 5 ', '   ', ' 5  ',\n",
       "       ' 16 ', ' 12.2  ', '  ', ' 20 ', ' 16  ', ' 64 ', ' 13  ',\n",
       "       ' 0.08  ', ' 1.9  ', ' 3 ', ' 12.2 '], dtype=object)"
      ]
     },
     "execution_count": 40,
     "metadata": {},
     "output_type": "execute_result"
    }
   ],
   "source": [
    "Rear_Camera['Secondary Camera'].replace({\"Dual Rear\":\"\",\"Depth Sensor\":\"\",\"None\":\"0\",\"\":\"0\"},regex=True,inplace=True)\n",
    "Rear_Camera['Secondary Camera'].unique()"
   ]
  },
  {
   "cell_type": "code",
   "execution_count": 41,
   "id": "807fa618",
   "metadata": {},
   "outputs": [],
   "source": [
    "Rear_Camera['Secondary Camera']=Rear_Camera['Secondary Camera'].str.strip()\n"
   ]
  },
  {
   "cell_type": "code",
   "execution_count": 42,
   "id": "e5e0cd31",
   "metadata": {},
   "outputs": [
    {
     "data": {
      "text/plain": [
       "array([' 32  ', ' 2  ', None, ' 8  ', ' 12  ', ' 10  ', ' 50  ', ' 5  ',\n",
       "       ' 0.3  ', ' 13  ', ' Ultra Wide  ', ' 48  ', ' 12  Camera',\n",
       "       ' 64  ', ' 16  ', ' 12.2  ', ' Depth Sensor  '], dtype=object)"
      ]
     },
     "execution_count": 42,
     "metadata": {},
     "output_type": "execute_result"
    }
   ],
   "source": [
    "Rear_Camera['Additional Camera'].unique()\n"
   ]
  },
  {
   "cell_type": "code",
   "execution_count": 43,
   "id": "4346b6d5",
   "metadata": {},
   "outputs": [
    {
     "data": {
      "text/plain": [
       "0     2  \n",
       "Name: Additional Camera, dtype: object"
      ]
     },
     "execution_count": 43,
     "metadata": {},
     "output_type": "execute_result"
    }
   ],
   "source": [
    "Rear_Camera['Additional Camera'].mode()\n"
   ]
  },
  {
   "cell_type": "code",
   "execution_count": 44,
   "id": "3609b463",
   "metadata": {},
   "outputs": [],
   "source": [
    "Rear_Camera['Additional Camera'].replace({\"Ultra Wide\":2,\"Depth Sensor\":2,\"Camera\":\"\"},regex=True,inplace=True)\n",
    "Rear_Camera['Additional Camera']=Rear_Camera['Additional Camera'].str.strip()"
   ]
  },
  {
   "cell_type": "code",
   "execution_count": 45,
   "id": "45ab3cbb",
   "metadata": {},
   "outputs": [],
   "source": [
    "storage=df['card'].str.split(\",\",expand=True).rename(columns={0:\"type\",1:\"upto\"})\n"
   ]
  },
  {
   "cell_type": "code",
   "execution_count": 46,
   "id": "1d112463",
   "metadata": {},
   "outputs": [
    {
     "data": {
      "text/plain": [
       "type\n",
       "Memory Card Supported        716\n",
       "Memory Card (Hybrid)         157\n",
       "Memory Card Not Supported    129\n",
       "Name: count, dtype: int64"
      ]
     },
     "execution_count": 46,
     "metadata": {},
     "output_type": "execute_result"
    }
   ],
   "source": [
    "storage['type'].value_counts()\n"
   ]
  },
  {
   "cell_type": "code",
   "execution_count": 47,
   "id": "51e74b45",
   "metadata": {},
   "outputs": [
    {
     "data": {
      "text/plain": [
       "array([None, ' upto 1TB', ' upto 512GB', ' upto 256GB', ' upto 2TB',\n",
       "       ' upto 128GB', ' upto 32GB', ' upto 64GB', ' upto 1000GB',\n",
       "       ' upto 16GB', ' upto 48GB'], dtype=object)"
      ]
     },
     "execution_count": 47,
     "metadata": {},
     "output_type": "execute_result"
    }
   ],
   "source": [
    "storage[\"upto\"].unique()\n"
   ]
  },
  {
   "cell_type": "code",
   "execution_count": 48,
   "id": "136caf0f",
   "metadata": {},
   "outputs": [],
   "source": [
    "storage['upto']=np.where(storage['type'].str.contains(\"Memory Card Not Supported\"),\"1\",storage['upto'])\n",
    "storage['upto']=np.where((storage['type'].str.contains(\"Memory Card Supported\")&(storage['upto'].isnull())),'512',storage['upto'])\n",
    "storage[\"upto\"].fillna('512',inplace=True)\n",
    "storage[\"upto\"].replace({\"TB\":\"1000\",\"GB\":\"\",\"upto\":\"\"},regex=True,inplace=True)\n",
    "storage[\"upto\"]=storage[\"upto\"].str.strip()"
   ]
  },
  {
   "cell_type": "code",
   "execution_count": 49,
   "id": "1b59c724",
   "metadata": {},
   "outputs": [],
   "source": [
    "df[\"card\"]=storage['upto']"
   ]
  },
  {
   "cell_type": "code",
   "execution_count": 50,
   "id": "49af91ad",
   "metadata": {},
   "outputs": [],
   "source": [
    "display=df['display'].str.split(\",\",expand=True).rename(columns={0:\"inches\",1:\"pixel\",2:\"display Hz\"})\n",
    "display[\"inches\"].replace(\"inches\",\"\",inplace=True,regex=True)"
   ]
  },
  {
   "cell_type": "code",
   "execution_count": 51,
   "id": "fe1d1747",
   "metadata": {},
   "outputs": [
    {
     "data": {
      "text/plain": [
       "array(['6.7 ', '6.59 ', '6.6 ', '6.55 ', '6.1 ', '6.67 ', '6.43 ',\n",
       "       '6.72 ', '6.56 ', '6.58 ', '6.8 ', '6.51 ', '6.5 ', '6.44 ',\n",
       "       '6.4 ', '6.78 ', 'Foldable Display', '6.26 ', '6.53 ', '6.73 ',\n",
       "       '6.52 ', '6.14 ', '6.47 ', '6.62 ', '5 ', '6.68 ', 'Dual Display',\n",
       "       '6.54 ', '4.7 ', '3.54 ', '6.9 ', '6.82 ', '6.95 ', '6.3 ',\n",
       "       '6.71 ', '5.4 ', '5.42 ', '6.36 ', '6 ', '6.81 ', '5.45 ', '6.2 ',\n",
       "       '6.83 ', '5.7 ', '2.4 ', '6.49 ', '5.9 ', '7.92 ', '6.18 ', '4.5 ',\n",
       "       '5.5 ', '6.74 ', '2.8 ', '6.35 ', '6.66 ', '6.64 ', '6.28 ',\n",
       "       '6.92 ', '1.8 ', '6.76 ', '6.57 ', '6.91 ', '6.38 ', '6.06 ', '7 ',\n",
       "       '6.39 ', '6.22 ', '5.3 ', '5.84 ', '6.34 ', '6.09 ', '5.2 ',\n",
       "       '6.75 ', '5.86 '], dtype=object)"
      ]
     },
     "execution_count": 51,
     "metadata": {},
     "output_type": "execute_result"
    }
   ],
   "source": [
    "display[\"inches\"].unique()\n"
   ]
  },
  {
   "cell_type": "code",
   "execution_count": 52,
   "id": "48fb2194",
   "metadata": {},
   "outputs": [],
   "source": [
    "display[\"inches\"]=np.where(display[\"inches\"].str.contains(\"Display\"),display[\"inches\"].mode(),display[\"inches\"])\n",
    "display[\"inches\"]=display[\"inches\"].str.strip()"
   ]
  },
  {
   "cell_type": "code",
   "execution_count": 53,
   "id": "e3e5533f",
   "metadata": {},
   "outputs": [
    {
     "data": {
      "text/plain": [
       "15"
      ]
     },
     "execution_count": 53,
     "metadata": {},
     "output_type": "execute_result"
    }
   ],
   "source": [
    "display['pixel'].isnull().sum()\n"
   ]
  },
  {
   "cell_type": "code",
   "execution_count": 54,
   "id": "fbdec671",
   "metadata": {},
   "outputs": [
    {
     "data": {
      "text/plain": [
       "0     1080x2400px\n",
       "Name: pixel, dtype: object"
      ]
     },
     "execution_count": 54,
     "metadata": {},
     "output_type": "execute_result"
    }
   ],
   "source": [
    "display['pixel'].mode()\n"
   ]
  },
  {
   "cell_type": "code",
   "execution_count": 55,
   "id": "b71d10bd",
   "metadata": {},
   "outputs": [],
   "source": [
    "display['pixel'].fillna(\"1080x2400px\",inplace=True)\n"
   ]
  },
  {
   "cell_type": "code",
   "execution_count": 56,
   "id": "517fd724",
   "metadata": {},
   "outputs": [
    {
     "data": {
      "text/plain": [
       "pixel\n",
       " 720x1600px Display with Water Drop Notch     108\n",
       " 1080x2400px Display with Punch Hole           50\n",
       " 1080x2408px Display with Water Drop Notch     20\n",
       " 1080x2340px Display with Water Drop Notch     16\n",
       " Dual Display                                  15\n",
       "                                             ... \n",
       " 640x960px Display                              1\n",
       " 720x1600px Display with Small Notch            1\n",
       " 750x1334px Display with Large Notch            1\n",
       " 720x1600px Display with Large Notch            1\n",
       " 720x1520px Display with Large Notch            1\n",
       "Name: count, Length: 72, dtype: int64"
      ]
     },
     "execution_count": 56,
     "metadata": {},
     "output_type": "execute_result"
    }
   ],
   "source": [
    "display['pixel'][display['pixel'].str.contains(\"Display\")].value_counts()\n"
   ]
  },
  {
   "cell_type": "code",
   "execution_count": 57,
   "id": "c357c94e",
   "metadata": {},
   "outputs": [
    {
     "data": {
      "text/plain": [
       "396"
      ]
     },
     "execution_count": 57,
     "metadata": {},
     "output_type": "execute_result"
    }
   ],
   "source": [
    "display['pixel'].replace({\"Display with Water Drop Notch\":\"\",\"Display with Punch Hole\":\"\",\"Display with Small Notch\":\"\"},inplace=True,regex=True)\n",
    "display['pixel'].replace({\"Display with Large Notch\":\"\",\"Dual Display\":\"\",\"Display\":\"\"},inplace=True,regex=True)\n",
    "display['pixel'].replace({\"px\":\"\"},inplace=True,regex=True)\n",
    "display['pixel']=display['pixel'].str.strip()\n",
    "display['display Hz'].isnull().sum()"
   ]
  },
  {
   "cell_type": "code",
   "execution_count": 58,
   "id": "3487e88d",
   "metadata": {},
   "outputs": [
    {
     "data": {
      "text/plain": [
       "display Hz\n",
       " 120 Hz Display with Punch Hole          286\n",
       " 90 Hz Display with Punch Hole           129\n",
       " 90 Hz Display with Water Drop Notch      78\n",
       " 144 Hz Display with Punch Hole           33\n",
       " 120 Hz Display with Water Drop Notch     28\n",
       " 120 Hz Display                           19\n",
       " 165 Hz Display                            7\n",
       " 120 Hz Display with Small Notch           5\n",
       " 144 Hz Display                            5\n",
       " 90 Hz Display with Small Notch            4\n",
       " 90 Hz Display with Dual Punch Hole        4\n",
       " 120 Hz Display with Large Notch           3\n",
       " 90 Hz Display                             2\n",
       " 165 Hz Display with Punch Hole            1\n",
       " 144 Hz Display with Water Drop Notch      1\n",
       " 240 Hz Display with Punch Hole            1\n",
       "Name: count, dtype: int64"
      ]
     },
     "execution_count": 58,
     "metadata": {},
     "output_type": "execute_result"
    }
   ],
   "source": [
    "display['display Hz'].value_counts()\n"
   ]
  },
  {
   "cell_type": "code",
   "execution_count": 59,
   "id": "11388e9a",
   "metadata": {},
   "outputs": [],
   "source": [
    "display['display Hz'].replace({\"Display with Water Drop Notch\":\"\",\"Display with Punch Hole\":\"\",\"Display with Small Notch\":\"\"},inplace=True,regex=True)\n",
    "display['display Hz'].replace({\"Display with Large Notch\":\"\",\"Dual Display\":\"\",\"Display\":\"\"},inplace=True,regex=True)\n",
    "display['display Hz'].replace({\"Hz\":\"\",\"with Dual Punch Hole\":\"\"},inplace=True,regex=True)"
   ]
  },
  {
   "cell_type": "code",
   "execution_count": 60,
   "id": "65811282",
   "metadata": {},
   "outputs": [
    {
     "data": {
      "text/plain": [
       "0     120  \n",
       "Name: display Hz, dtype: object"
      ]
     },
     "execution_count": 60,
     "metadata": {},
     "output_type": "execute_result"
    }
   ],
   "source": [
    "display['display Hz'].mode()\n"
   ]
  },
  {
   "cell_type": "code",
   "execution_count": 61,
   "id": "95c43195",
   "metadata": {},
   "outputs": [],
   "source": [
    "display['display Hz'].fillna(\"120\",inplace=True)\n",
    "display['display Hz']=display['display Hz'].str.strip()"
   ]
  },
  {
   "cell_type": "code",
   "execution_count": 62,
   "id": "6d73c436",
   "metadata": {},
   "outputs": [
    {
     "data": {
      "text/plain": [
       "model\n",
       "OnePlus 11 5G                1\n",
       "Motorola One Fusion Plus     1\n",
       "Xiaomi Redmi Note 11E 5G     1\n",
       "Honor Magic 4 Pro Plus 5G    1\n",
       "Tecno Spark 9T               1\n",
       "                            ..\n",
       "OnePlus 9 Pro                1\n",
       "Xiaomi Redmi Note 11S        1\n",
       "Xiaomi Redmi 9 Activ         1\n",
       "Tecno Camon 19 Pro 5G        1\n",
       "Samsung Galaxy M52s 5G       1\n",
       "Name: count, Length: 1002, dtype: int64"
      ]
     },
     "execution_count": 62,
     "metadata": {},
     "output_type": "execute_result"
    }
   ],
   "source": [
    "df['model'].value_counts()\n"
   ]
  },
  {
   "cell_type": "code",
   "execution_count": 63,
   "id": "fe0aad39",
   "metadata": {},
   "outputs": [],
   "source": [
    "df['model']=np.where(df['model'].str.contains(\"OnePlus\"),'OnePlus',df['model'])\n",
    "df['model']=np.where(df['model'].str.contains(\"Honor\"),'Honor',df['model'])\n",
    "df['model']=np.where(df['model'].str.contains(\"Xiaomi\"),'Xiaomi',df['model'])\n",
    "df['model']=np.where(df['model'].str.contains(\"Oppo\"),'Oppo',df['model'])\n",
    "df['model']=np.where(df['model'].str.contains(\"LG\"),'LG',df['model'])\n",
    "df['model']=np.where(df['model'].str.contains(\"Motorola\"),'Motorola',df['model'])\n",
    "df['model']=np.where(df['model'].str.contains(\"Tecno\"),'Tecno',df['model'])\n",
    "df['model']=np.where(df['model'].str.contains(\"Samsung\"),'Samsung',df['model'])\n",
    "df['model']=np.where(df['model'].str.contains(\"POCO\"),'POCO',df['model'])\n",
    "df['model']=np.where(df['model'].str.contains(\"Vivo\"),'Vivo',df['model'])\n",
    "df['model']=np.where(df['model'].str.contains(\"Poco\"),'POCO',df['model'])\n",
    "df['model']=np.where(df['model'].str.contains(\"Apple\"),'Apple',df['model'])\n",
    "df['model']=np.where(df['model'].str.contains(\"Nothing\"),'Nothing',df['model'])\n",
    "df['model']=np.where(df['model'].str.contains(\"Realme\"),'Realme',df['model'])\n",
    "df['model']=np.where(df['model'].str.contains(\"OPPO\"),'Oppo',df['model'])\n",
    "df['model']=np.where(df['model'].str.contains(\"POCO\"),'POCO',df['model'])\n",
    "df['model']=np.where(df['model'].str.contains(\"iQOO\"),'iQOO',df['model'])\n",
    "df['model']=np.where(df['model'].str.contains(\"Gionee\"),'Gionee',df['model'])\n",
    "df['model']=np.where(df['model'].str.contains(\"Nokia\"),'Nokia',df['model'])\n",
    "df['model']=np.where(df['model'].str.contains(\"Google\"),'Google',df['model'])\n",
    "df['model']=np.where(df['model'].str.contains(\"Huawei\"),'Huawei',df['model'])\n",
    "df['model']=np.where(df['model'].str.contains(\"Lenovo\"),'Lenovo',df['model'])\n",
    "df['model']=np.where(df['model'].str.contains(\"Infinix\"),'Infinix',df['model'])\n",
    "df['model']=np.where(df['model'].str.contains(\"Sony\"),'Sony',df['model'])\n",
    "df['model']=np.where(df['model'].str.contains(\"Lava\"),'Lava',df['model'])\n",
    "df['model']=np.where(df['model'].str.contains(\"Micromax\"),'Micromax',df['model'])\n",
    "df['model']=np.where(df['model'].str.contains(\"Asus\"),'Asus',df['model'])\n",
    "df['model']=np.where(df['model'].str.contains(\"Doogee\"),'Doogee',df['model'])\n",
    "df['model']=np.where(df['model'].str.contains(\"Nubia\"),'Nubia',df['model'])\n",
    "df['model']=np.where(df['model'].str.contains(\"Redmi\"),'Redmi',df['model'])\n",
    "df['model']=np.where(df['model'].str.contains(\"Jio\"),'Jio',df['model'])\n",
    "df['model']=np.where(df['model'].str.contains(\"itel\"),'itel',df['model'])\n",
    "df['model']=np.where(df['model'].str.contains(\"iKall\"),'iKall',df['model'])\n",
    "df['model']=np.where(df['model'].str.contains(\"Lyf\"),'Lyf',df['model'])\n",
    "df['model']=np.where(df['model'].str.contains(\"Itel\"),'itel',df['model'])\n",
    "df['model']=np.where(df['model'].str.contains(\"ZTE\"),'ZTE',df['model'])\n",
    "df['model']=np.where(df['model'].str.contains(\"Letv\"),'Letv',df['model'])"
   ]
  },
  {
   "cell_type": "code",
   "execution_count": 64,
   "id": "180b9652",
   "metadata": {},
   "outputs": [
    {
     "data": {
      "text/plain": [
       "array(['OnePlus', 'Samsung', 'Motorola', 'Realme', 'Apple', 'Xiaomi',\n",
       "       'Nothing', 'Oppo', 'Vivo', 'POCO', 'iQOO', 'Jio', 'Gionee',\n",
       "       'Tecno', 'Tesla Pi Phone', 'Google', 'Infinix', 'Nokia',\n",
       "       'Cola Phone', 'Letv', 'iKall', 'LeEco S1 Pro', 'Duoqin F22 Pro',\n",
       "       'Lava', 'Honor', 'Nubia', 'Redmi', 'Asus', 'itel',\n",
       "       'Royole FlexPai 2', 'Sony', 'Vertu Signature Touch', 'BLU F91 5G',\n",
       "       'Lyf', 'Huawei', 'ZTE', 'Lenovo', 'LG', 'Eunity U1 5605N',\n",
       "       'Micromax', 'Leitz Phone 2', 'CAT S22 Flip', 'DIZO Star 500',\n",
       "       'BlackZone Ultra 4G', 'Doogee', 'Royole FlexPai 3 5G', 'TCL Ion X',\n",
       "       'Sharp Aquos R5G', 'Blackview BV5200 Pro', 'XTouch F40 Flip'],\n",
       "      dtype=object)"
      ]
     },
     "execution_count": 64,
     "metadata": {},
     "output_type": "execute_result"
    }
   ],
   "source": [
    "df[\"model\"].unique()\n"
   ]
  },
  {
   "cell_type": "code",
   "execution_count": 65,
   "id": "e2221235",
   "metadata": {},
   "outputs": [
    {
     "data": {
      "text/plain": [
       "array(['Android v13', 'Android v12', 'iOS v16', 'iOS v15', 'Android v11',\n",
       "       'Android v10', 'iOS v13', 'HarmonyOS v2', 'iOS v15.0', 'iOS v14',\n",
       "       'Android v10.0', 'Android v8.1 (Oreo)', 'iOS v13.0',\n",
       "       'Android v11.0', 'Android v9.0 (Pie)', 'Android v12.1',\n",
       "       'iOS v12.3', 'Unisoc T107', 'KAI OS', 'iOS v17',\n",
       "       'Android v4.4.2 (KitKat)', 'Android v5.1 (Lollipop)',\n",
       "       'Android v5.1.1 (Lollipop)', 'Hongmeng OS v3.0', 'Bluetooth',\n",
       "       'Android v8.0 (Oreo)', 'T117', 'Android v6.0 (Marshmallow)',\n",
       "       'Pragati OS (Powered by Android)', 'iOS v10', 'RTOS (Series 30+)',\n",
       "       'iOS v14.0', 'Harmony v2.0', 'Nucleus', 'Hongmeng OS v4.0',\n",
       "       'HarmonyOS v2.0', 'EMUI v12', 'HarmonyOS', 'Android v7.1 (Nougat)',\n",
       "       'Android', 'Android v9 (Pie)'], dtype=object)"
      ]
     },
     "execution_count": 65,
     "metadata": {},
     "output_type": "execute_result"
    }
   ],
   "source": [
    "df['os'].unique()\n"
   ]
  },
  {
   "cell_type": "code",
   "execution_count": 66,
   "id": "c4b64803",
   "metadata": {},
   "outputs": [],
   "source": [
    "df['os']=np.where(df['os'].str.contains(\"Android\"),'Android',df['os'])\n",
    "df['os']=np.where(df['os'].str.contains(\"iOS\"),'iOS',df['os'])\n",
    "df['os']=np.where(df['os'].str.contains(\"HarmonyOS\"),'Harmony',df['os'])\n",
    "df['os']=np.where(df['os'].str.contains(\"Hongmeng\"),'Hongmeng',df['os'])\n",
    "df['os']=np.where(df['os'].str.contains(\"Harmony\"),'Harmony',df['os'])"
   ]
  },
  {
   "cell_type": "code",
   "execution_count": 67,
   "id": "ee476df4",
   "metadata": {},
   "outputs": [],
   "source": [
    "df['price'].replace(\",\",\"\",regex=True,inplace=True)\n"
   ]
  },
  {
   "cell_type": "code",
   "execution_count": 68,
   "id": "2955a383",
   "metadata": {},
   "outputs": [
    {
     "data": {
      "text/plain": [
       "array(['12GB RAM', '6GB RAM', '4GB RAM', '8GB RAM', '3GB RAM', '16GB RAM',\n",
       "       '2GB RAM', '512MB RAM', '18GB RAM', '48MB RAM', '1GB RAM',\n",
       "       '64GB inbuilt', '512GB inbuilt', '64MB RAM', '32MB RAM', '8MB RAM',\n",
       "       '4MB inbuilt'], dtype=object)"
      ]
     },
     "execution_count": 68,
     "metadata": {},
     "output_type": "execute_result"
    }
   ],
   "source": [
    "ram=df[\"ram\"].str.split(\",\",expand=True).rename(columns={0:\"RAM\",1:\"inbuilt\"})\n",
    "ram['RAM'].unique()\n"
   ]
  },
  {
   "cell_type": "code",
   "execution_count": 69,
   "id": "8da9177e",
   "metadata": {},
   "outputs": [
    {
     "data": {
      "text/plain": [
       "array([' 256GB inbuilt', ' 128GB inbuilt', ' 64GB inbuilt',\n",
       "       ' 32GB inbuilt', ' 512GB inbuilt', ' 512MB inbuilt',\n",
       "       ' 4GB inbuilt', ' 1TB inbuilt', ' 128MB inbuilt', ' 16GB inbuilt',\n",
       "       None, ' 8GB inbuilt', ' 32MB inbuilt', ' 16MB inbuilt',\n",
       "       ' 48MB inbuilt'], dtype=object)"
      ]
     },
     "execution_count": 69,
     "metadata": {},
     "output_type": "execute_result"
    }
   ],
   "source": [
    "ram['inbuilt'].unique()"
   ]
  },
  {
   "cell_type": "code",
   "execution_count": 70,
   "id": "03785227",
   "metadata": {},
   "outputs": [
    {
     "data": {
      "text/plain": [
       "4"
      ]
     },
     "execution_count": 70,
     "metadata": {},
     "output_type": "execute_result"
    }
   ],
   "source": [
    "ram['inbuilt'].isnull().sum()"
   ]
  },
  {
   "cell_type": "code",
   "execution_count": 71,
   "id": "9fa6e2a4",
   "metadata": {},
   "outputs": [],
   "source": [
    "ram['inbuilt']=np.where(ram['RAM'].str.contains(\"inbuilt\"),ram['RAM'],ram['inbuilt'])"
   ]
  },
  {
   "cell_type": "code",
   "execution_count": 72,
   "id": "a607fbfb",
   "metadata": {},
   "outputs": [
    {
     "data": {
      "text/plain": [
       "0    8GB RAM\n",
       "Name: RAM, dtype: object"
      ]
     },
     "execution_count": 72,
     "metadata": {},
     "output_type": "execute_result"
    }
   ],
   "source": [
    "ram['RAM'].mode()\n"
   ]
  },
  {
   "cell_type": "code",
   "execution_count": 73,
   "id": "c23896d0",
   "metadata": {},
   "outputs": [],
   "source": [
    "ram['RAM']=np.where(ram['RAM'].str.contains(\"inbuilt\"),\"8GB RAM\",ram['RAM'])\n",
    "ram['RAM']=np.where(ram['RAM'].str.contains(\"MB\"),\"1GB\",ram['RAM'])\n",
    "ram['RAM'].replace({\"RAM\":\"\",\"MB\":\"\",\"GB\":\"\"},regex=True,inplace=True)\n",
    "ram['inbuilt']=np.where(ram['inbuilt'].str.contains(\"MB\"),\"1GB\",ram['inbuilt'])\n",
    "ram['inbuilt'].replace({\"inbuilt\":\"\",\"TB\":\"1000\",\"GB\":\"\"},regex=True,inplace=True)"
   ]
  },
  {
   "cell_type": "code",
   "execution_count": 74,
   "id": "254b530a",
   "metadata": {},
   "outputs": [],
   "source": [
    "ram['inbuilt']=ram['inbuilt'].str.strip()\n",
    "ram['RAM']=ram['RAM'].str.strip()"
   ]
  },
  {
   "cell_type": "code",
   "execution_count": 75,
   "id": "85a92186",
   "metadata": {},
   "outputs": [],
   "source": [
    "df.drop(columns=\"sim\",inplace=True)\n"
   ]
  },
  {
   "cell_type": "code",
   "execution_count": 76,
   "id": "c7622c78",
   "metadata": {},
   "outputs": [
    {
     "data": {
      "text/plain": [
       "type\n",
       "Dimensity 700 5G      39\n",
       "Helio P35             28\n",
       "Snapdragon 8+ Gen1    26\n",
       "Snapdragon 8 Gen2     23\n",
       "Snapdragon 695        23\n",
       "                      ..\n",
       "Tiger T606             1\n",
       "Snapdragon 615         1\n",
       "Helio MT6580           1\n",
       "Helio  G95             1\n",
       "Google  Tensor 3       1\n",
       "Name: count, Length: 255, dtype: int64"
      ]
     },
     "execution_count": 76,
     "metadata": {},
     "output_type": "execute_result"
    }
   ],
   "source": [
    "processor=df[\"processor\"].str.split(\",\",expand=True).rename(columns={0:\"type\",1:\"core\",2:\"processor Hz\"})\n",
    "processor['type'].value_counts()"
   ]
  },
  {
   "cell_type": "code",
   "execution_count": 77,
   "id": "e4fb421d",
   "metadata": {},
   "outputs": [],
   "source": [
    "processor['type']=np.where(processor['type'].str.contains(\"Dimensity\"),\"Dimensity\",processor['type'])\n",
    "processor['type']=np.where(processor['type'].str.contains(\"Snapdragon\"),\"Snapdragon\",processor['type'])\n",
    "processor['type']=np.where(processor['type'].str.contains(\"Helio\"),\"Helio\",processor['type'])\n",
    "processor['type']=np.where(processor['type'].str.contains(\"Tiger\"),\"Tiger\",processor['type'])\n",
    "processor['type']=np.where(processor['type'].str.contains(\"Unisoc\"),\"Unisoc\",processor['type'])\n",
    "processor['type']=np.where(processor['type'].str.contains(\"Sanpdragon\"),\"Snapdragon\",processor['type'])\n",
    "processor['type']=np.where(processor['type'].str.contains(\"Bionic\"),\"Bionic\",processor['type'])\n",
    "processor['type']=np.where(processor['type'].str.contains(\"Google\"),\"Google\",processor['type'])\n",
    "processor['type']=np.where(processor['type'].str.contains(\"Apple\"),\"Apple\",processor['type'])\n",
    "processor['type']=np.where(processor['type'].str.contains(\"Exynos\"),\"Exynos\",processor['type'])\n",
    "processor['type']=np.where(processor['type'].str.contains(\"Fusion\"),\"Fusion\",processor['type'])\n",
    "processor['type']=np.where(processor['type'].str.contains(\"Spreadtrum\"),\"Spreadtrum\",processor['type'])\n",
    "processor['type']=np.where(processor['type'].str.contains(\"Kirin\"),\"Kirin\",processor['type'])"
   ]
  },
  {
   "cell_type": "code",
   "execution_count": 78,
   "id": "1055c468",
   "metadata": {},
   "outputs": [
    {
     "data": {
      "text/plain": [
       "20"
      ]
     },
     "execution_count": 78,
     "metadata": {},
     "output_type": "execute_result"
    }
   ],
   "source": [
    "processor['core'].isnull().sum()"
   ]
  },
  {
   "cell_type": "code",
   "execution_count": 79,
   "id": "fc1f4116",
   "metadata": {},
   "outputs": [
    {
     "data": {
      "text/plain": [
       "(22,)"
      ]
     },
     "execution_count": 79,
     "metadata": {},
     "output_type": "execute_result"
    }
   ],
   "source": [
    "processor['type'][processor['type'].str.contains(\"Core\")].shape\n"
   ]
  },
  {
   "cell_type": "code",
   "execution_count": 80,
   "id": "c33d54e1",
   "metadata": {},
   "outputs": [
    {
     "data": {
      "text/plain": [
       "0     Octa Core\n",
       "Name: core, dtype: object"
      ]
     },
     "execution_count": 80,
     "metadata": {},
     "output_type": "execute_result"
    }
   ],
   "source": [
    "processor['core']=np.where(processor['type'].str.contains(\"Core\"),processor['type'],processor['core'])\n",
    "processor['core'].mode()"
   ]
  },
  {
   "cell_type": "code",
   "execution_count": 81,
   "id": "ee1cf6cc",
   "metadata": {},
   "outputs": [],
   "source": [
    "processor['core'].fillna(\"Octa Core\",inplace=True)\n"
   ]
  },
  {
   "cell_type": "code",
   "execution_count": 82,
   "id": "29ee5e76",
   "metadata": {},
   "outputs": [],
   "source": [
    "processor['type']=np.where(processor['type'].str.contains(\"Core\"),\"Snapdragon\",processor['type'])\n",
    "processor['core'].replace({\"Core\":\"\",\"Processor\":\"\"},inplace=True,regex=True)\n",
    "processor['core']=processor['core'].str.strip()"
   ]
  },
  {
   "cell_type": "code",
   "execution_count": 83,
   "id": "ceee2ee9",
   "metadata": {},
   "outputs": [
    {
     "data": {
      "text/plain": [
       "61"
      ]
     },
     "execution_count": 83,
     "metadata": {},
     "output_type": "execute_result"
    }
   ],
   "source": [
    "processor['processor Hz'].isnull().sum()"
   ]
  },
  {
   "cell_type": "code",
   "execution_count": 84,
   "id": "99a93534",
   "metadata": {},
   "outputs": [
    {
     "data": {
      "text/plain": [
       "0     2.2GHz Processor\n",
       "Name: processor Hz, dtype: object"
      ]
     },
     "execution_count": 84,
     "metadata": {},
     "output_type": "execute_result"
    }
   ],
   "source": [
    "processor['processor Hz'].mode()"
   ]
  },
  {
   "cell_type": "code",
   "execution_count": 85,
   "id": "be562a43",
   "metadata": {},
   "outputs": [
    {
     "data": {
      "text/plain": [
       "processor Hz\n",
       " 2.2GHz Processor     144\n",
       " 2GHz Processor       143\n",
       " 2.4GHz Processor     128\n",
       " 3.2GHz Processor      94\n",
       " 2.3GHz Processor      86\n",
       "2.2GHz Processor       61\n",
       " 3GHz Processor        53\n",
       " 2.84GHz Processor     36\n",
       " 2.05GHz Processor     28\n",
       " 2.5GHz Processor      23\n",
       " 1.8GHz Processor      22\n",
       " 2.85GHz Processor     19\n",
       " 3.22GHz Processor     18\n",
       " 1.6GHz Processor      18\n",
       " 3.1GHz Processor      15\n",
       " 2.6GHz Processor      14\n",
       " 2.9GHz Processor      13\n",
       " 1.82GHz Processor     10\n",
       " 2.73GHz Processor      9\n",
       " 2.8GHz Processor       9\n",
       " 3.05GHz Processor      8\n",
       " 1.3GHz Processor       8\n",
       " 2.36GHz Processor      8\n",
       " 2.65GHz Processor      5\n",
       " 2.7GHz Processor       5\n",
       " 1.5GHz Processor       4\n",
       " 1.4GHz Processor       4\n",
       " 1.1GHz Processor       3\n",
       " 2.96GHz Processor      3\n",
       " 2.86GHz Processor      3\n",
       " 3.13GHz Processor      2\n",
       " 2.35GHz Processor      1\n",
       " 2.37GHz Processor      1\n",
       " 1.99GHz Processor      1\n",
       " 1.95GHz Processor      1\n",
       " 2.1GHz Processor       1\n",
       " 1.2GHz Processor       1\n",
       "Name: count, dtype: int64"
      ]
     },
     "execution_count": 85,
     "metadata": {},
     "output_type": "execute_result"
    }
   ],
   "source": [
    "processor['processor Hz'].fillna(\"2.2GHz Processor\",inplace=True)\n",
    "processor['processor Hz'].value_counts()"
   ]
  },
  {
   "cell_type": "code",
   "execution_count": 86,
   "id": "1c4ded6e",
   "metadata": {},
   "outputs": [],
   "source": [
    "processor['processor Hz'].replace({\"GHz Processor\":\"\"},regex=True,inplace=True)\n",
    "processor['processor Hz']=processor['processor Hz'].str.strip()"
   ]
  },
  {
   "cell_type": "code",
   "execution_count": 87,
   "id": "b5c459a0",
   "metadata": {},
   "outputs": [
    {
     "data": {
      "text/plain": [
       "0    2\n",
       "Name: Additional Camera, dtype: object"
      ]
     },
     "execution_count": 87,
     "metadata": {},
     "output_type": "execute_result"
    }
   ],
   "source": [
    "Rear_Camera['Additional Camera'].mode()"
   ]
  },
  {
   "cell_type": "code",
   "execution_count": 88,
   "id": "41f43ea0",
   "metadata": {},
   "outputs": [
    {
     "data": {
      "text/plain": [
       "0    50\n",
       "Name: Primary Camera, dtype: object"
      ]
     },
     "execution_count": 88,
     "metadata": {},
     "output_type": "execute_result"
    }
   ],
   "source": [
    "Rear_Camera['Primary Camera'].mode()\n"
   ]
  },
  {
   "cell_type": "code",
   "execution_count": 89,
   "id": "acba1fba",
   "metadata": {},
   "outputs": [
    {
     "data": {
      "text/plain": [
       "0    2\n",
       "Name: Secondary Camera, dtype: object"
      ]
     },
     "execution_count": 89,
     "metadata": {},
     "output_type": "execute_result"
    }
   ],
   "source": [
    "Rear_Camera['Secondary Camera'].mode()\n"
   ]
  },
  {
   "cell_type": "code",
   "execution_count": 90,
   "id": "7d044fd3",
   "metadata": {},
   "outputs": [],
   "source": [
    "Rear_Camera['Additional Camera'].fillna(2,inplace=True)\n",
    "Rear_Camera['Primary Camera'].fillna(50,inplace=True)\n",
    "Rear_Camera['Secondary Camera'].fillna(2,inplace=True)"
   ]
  },
  {
   "cell_type": "code",
   "execution_count": 91,
   "id": "0f47d33c",
   "metadata": {},
   "outputs": [
    {
     "data": {
      "text/plain": [
       "24"
      ]
     },
     "execution_count": 91,
     "metadata": {},
     "output_type": "execute_result"
    }
   ],
   "source": [
    "frontCam[\"Main Camera\"].isnull().sum()"
   ]
  },
  {
   "cell_type": "code",
   "execution_count": 92,
   "id": "7abb8723",
   "metadata": {},
   "outputs": [
    {
     "data": {
      "text/plain": [
       "0    16\n",
       "Name: Main Camera, dtype: object"
      ]
     },
     "execution_count": 92,
     "metadata": {},
     "output_type": "execute_result"
    }
   ],
   "source": [
    "frontCam[\"Main Camera\"].mode()\n"
   ]
  },
  {
   "cell_type": "code",
   "execution_count": 93,
   "id": "f0f03aa1",
   "metadata": {},
   "outputs": [],
   "source": [
    "frontCam.drop(columns=\"Additional Camera\",inplace=True)\n",
    "frontCam['Main Camera'].fillna(16,inplace=True)"
   ]
  },
  {
   "cell_type": "code",
   "execution_count": 94,
   "id": "9aa237d0",
   "metadata": {},
   "outputs": [],
   "source": [
    "df=pd.concat([df,battery],axis=1)\n",
    "df=pd.concat([df,Rear_Camera],axis=1)\n",
    "df=pd.concat([df,frontCam],axis=1)\n",
    "df=pd.concat([df,display],axis=1)\n",
    "df=pd.concat([df,processor],axis=1)\n",
    "df=pd.concat([df,ram],axis=1)"
   ]
  },
  {
   "cell_type": "code",
   "execution_count": 95,
   "id": "74faa4fc",
   "metadata": {},
   "outputs": [],
   "source": [
    "df.drop(columns=[\"processor\",\"ram\",\"battery\",\"display\",\"camera\"],inplace=True)\n"
   ]
  },
  {
   "cell_type": "code",
   "execution_count": 96,
   "id": "c2984ab7",
   "metadata": {},
   "outputs": [
    {
     "data": {
      "text/plain": [
       "Index(['model', 'price', 'rating', 'card', 'os', 'battery_capacity',\n",
       "       'charging_capacity', 'Primary Camera', 'Secondary Camera',\n",
       "       'Additional Camera', 'Main Camera', 'inches', 'pixel', 'display Hz',\n",
       "       'type', 'core', 'processor Hz', 'RAM', 'inbuilt'],\n",
       "      dtype='object')"
      ]
     },
     "execution_count": 96,
     "metadata": {},
     "output_type": "execute_result"
    }
   ],
   "source": [
    "df.columns"
   ]
  },
  {
   "cell_type": "code",
   "execution_count": 97,
   "id": "eb609a85",
   "metadata": {},
   "outputs": [
    {
     "name": "stdout",
     "output_type": "stream",
     "text": [
      "<class 'pandas.core.frame.DataFrame'>\n",
      "Index: 1002 entries, 0 to 1019\n",
      "Data columns (total 19 columns):\n",
      " #   Column             Non-Null Count  Dtype  \n",
      "---  ------             --------------  -----  \n",
      " 0   model              1002 non-null   object \n",
      " 1   price              1002 non-null   object \n",
      " 2   rating             1002 non-null   float64\n",
      " 3   card               1002 non-null   object \n",
      " 4   os                 1002 non-null   object \n",
      " 5   battery_capacity   1002 non-null   object \n",
      " 6   charging_capacity  1002 non-null   object \n",
      " 7   Primary Camera     1002 non-null   object \n",
      " 8   Secondary Camera   1002 non-null   object \n",
      " 9   Additional Camera  1002 non-null   object \n",
      " 10  Main Camera        1002 non-null   object \n",
      " 11  inches             1002 non-null   object \n",
      " 12  pixel              1002 non-null   object \n",
      " 13  display Hz         1002 non-null   object \n",
      " 14  type               1002 non-null   object \n",
      " 15  core               1002 non-null   object \n",
      " 16  processor Hz       1002 non-null   object \n",
      " 17  RAM                1002 non-null   object \n",
      " 18  inbuilt            1002 non-null   object \n",
      "dtypes: float64(1), object(18)\n",
      "memory usage: 156.6+ KB\n"
     ]
    }
   ],
   "source": [
    "df.info()"
   ]
  },
  {
   "cell_type": "code",
   "execution_count": 98,
   "id": "d3c85c19",
   "metadata": {},
   "outputs": [],
   "source": [
    "df[\"Additional Camera\"]=df[\"Additional Camera\"].astype(float)\n",
    "df[\"Main Camera\"]=df[\"Main Camera\"].astype(float)\n",
    "df['Primary Camera']=df['Primary Camera'].astype(float)\n",
    "df['RAM']=df['RAM'].astype(int)\n",
    "df['Secondary Camera'].replace(\"\",\"1\",inplace=True)\n",
    "df['Secondary Camera']=df['Secondary Camera'].astype(float)\n",
    "df['battery_capacity']=df['battery_capacity'].astype(int)\n",
    "df['card']=df['card'].astype(int)\n",
    "df['charging_capacity']=df['charging_capacity'].astype(float)\n",
    "df['display Hz']=df['display Hz'].astype(int)\n",
    "df['inbuilt']=df['inbuilt'].astype(int)\n",
    "df['inches']=df['inches'].astype(float)\n",
    "df['price']=df['price'].astype(int)\n",
    "df['processor Hz']=df['processor Hz'].astype(float)"
   ]
  },
  {
   "cell_type": "code",
   "execution_count": 99,
   "id": "c485aa8e",
   "metadata": {},
   "outputs": [
    {
     "name": "stdout",
     "output_type": "stream",
     "text": [
      "<class 'pandas.core.frame.DataFrame'>\n",
      "Index: 1002 entries, 0 to 1019\n",
      "Data columns (total 19 columns):\n",
      " #   Column             Non-Null Count  Dtype  \n",
      "---  ------             --------------  -----  \n",
      " 0   model              1002 non-null   object \n",
      " 1   price              1002 non-null   int32  \n",
      " 2   rating             1002 non-null   float64\n",
      " 3   card               1002 non-null   int32  \n",
      " 4   os                 1002 non-null   object \n",
      " 5   battery_capacity   1002 non-null   int32  \n",
      " 6   charging_capacity  1002 non-null   float64\n",
      " 7   Primary Camera     1002 non-null   float64\n",
      " 8   Secondary Camera   1002 non-null   float64\n",
      " 9   Additional Camera  1002 non-null   float64\n",
      " 10  Main Camera        1002 non-null   float64\n",
      " 11  inches             1002 non-null   float64\n",
      " 12  pixel              1002 non-null   object \n",
      " 13  display Hz         1002 non-null   int32  \n",
      " 14  type               1002 non-null   object \n",
      " 15  core               1002 non-null   object \n",
      " 16  processor Hz       1002 non-null   float64\n",
      " 17  RAM                1002 non-null   int32  \n",
      " 18  inbuilt            1002 non-null   int32  \n",
      "dtypes: float64(8), int32(6), object(5)\n",
      "memory usage: 133.1+ KB\n"
     ]
    }
   ],
   "source": [
    "df.info()"
   ]
  },
  {
   "cell_type": "code",
   "execution_count": 101,
   "id": "c710b50a",
   "metadata": {},
   "outputs": [],
   "source": [
    "df_copy=df.copy()"
   ]
  },
  {
   "cell_type": "code",
   "execution_count": 102,
   "id": "95b94824",
   "metadata": {},
   "outputs": [],
   "source": [
    "catcols=df.select_dtypes(include='O')\n"
   ]
  },
  {
   "cell_type": "code",
   "execution_count": 103,
   "id": "442841cd",
   "metadata": {},
   "outputs": [],
   "source": [
    "from sklearn.preprocessing import OrdinalEncoder\n",
    "oe=OrdinalEncoder()\n",
    "df[catcols.columns]=oe.fit_transform(catcols)"
   ]
  },
  {
   "cell_type": "code",
   "execution_count": 104,
   "id": "0d084e22",
   "metadata": {},
   "outputs": [],
   "source": [
    "X = df.drop(columns=['price',\"pixel\"])\n",
    "y = df['price']"
   ]
  },
  {
   "cell_type": "code",
   "execution_count": 105,
   "id": "d39ed445",
   "metadata": {},
   "outputs": [],
   "source": [
    "from sklearn.model_selection import train_test_split\n",
    "X_train,X_test,y_train,y_test = train_test_split(X,y,test_size=0.15,random_state=500)"
   ]
  },
  {
   "cell_type": "code",
   "execution_count": 106,
   "id": "38699061",
   "metadata": {},
   "outputs": [],
   "source": [
    "from sklearn.metrics import r2_score,mean_absolute_error\n",
    "from sklearn.linear_model import LinearRegression\n",
    "model_1=LinearRegression()"
   ]
  },
  {
   "cell_type": "code",
   "execution_count": 107,
   "id": "3127fd47",
   "metadata": {},
   "outputs": [
    {
     "name": "stdout",
     "output_type": "stream",
     "text": [
      "R2 score 0.6344503343119892\n",
      "MAE 13441.016630991377\n"
     ]
    }
   ],
   "source": [
    "model_1.fit(X_train,y_train)\n",
    "model_1.score(X_train,y_train)\n",
    "y_pred = model_1.predict(X_test)\n",
    "print('R2 score',r2_score(y_test,y_pred))\n",
    "print('MAE',mean_absolute_error(y_test,y_pred))"
   ]
  },
  {
   "cell_type": "code",
   "execution_count": 108,
   "id": "d9fd628c",
   "metadata": {},
   "outputs": [
    {
     "data": {
      "image/png": "[encoded data removed]",
      "text/plain": [
       "<Figure size 1200x500 with 2 Axes>"
      ]
     },
     "metadata": {},
     "output_type": "display_data"
    }
   ],
   "source": [
    "plt.figure(figsize=(12,5))\n",
    "sns.heatmap(X.corr(),annot=True)\n",
    "plt.show()"
   ]
  },
  {
   "cell_type": "code",
   "execution_count": 110,
   "id": "e903786b",
   "metadata": {
    "scrolled": false
   },
   "outputs": [
    {
     "data": {
      "application/vnd.plotly.v1+json": {
       "config": {
        "plotlyServerURL": "https://plot.ly"
       },
       "data": [
        {
         "alignmentgroup": "True",
         "hovertemplate": "model=%{x}<br>rating=%{marker.color}<extra></extra>",
         "legendgroup": "",
         "marker": {
          "color": [
           89,
           88,
           88,
           87,
           87,
           86,
           85.71428571428571,
           85.5,
           85.2,
           85,
           84.33333333333333,
           84,
           83,
           82.21875,
           81.83333333333333,
           80.66666666666667,
           80.26666666666667,
           79.9423076923077,
           78.75862068965517,
           78.71851851851852,
           78.6829268292683,
           78.63636363636364,
           78,
           78,
           78,
           78,
           78,
           78,
           77.42857142857143,
           77.33333333333333,
           77.28571428571429,
           77.27027027027027,
           77.1875,
           76.875,
           76.87234042553192,
           76.52577319587628,
           76.34482758620689,
           75.25,
           75.2,
           74.33333333333333,
           74,
           73.93939393939394,
           72,
           72,
           67,
           65,
           65,
           64.66666666666667,
           62,
           60
          ],
          "coloraxis": "coloraxis",
          "pattern": {
           "shape": ""
          }
         },
         "name": "",
         "offsetgroup": "",
         "orientation": "v",
         "showlegend": false,
         "textposition": "auto",
         "type": "bar",
         "x": [
          "Leitz Phone 2",
          "Sharp Aquos R5G",
          "Lenovo",
          "Royole FlexPai 2",
          "Royole FlexPai 3 5G",
          "Doogee",
          "Asus",
          "ZTE",
          "Nothing",
          "BLU F91 5G",
          "Nubia",
          "LG",
          "Tesla Pi Phone",
          "iQOO",
          "OnePlus",
          "Sony",
          "Huawei",
          "Motorola",
          "Oppo",
          "Xiaomi",
          "POCO",
          "Samsung",
          "XTouch F40 Flip",
          "Eunity U1 5605N",
          "Duoqin F22 Pro",
          "DIZO Star 500",
          "CAT S22 Flip",
          "BlackZone Ultra 4G",
          "Google",
          "Redmi",
          "Honor",
          "Vivo",
          "itel",
          "Nokia",
          "Apple",
          "Realme",
          "Infinix",
          "Lava",
          "Jio",
          "Gionee",
          "Cola Phone",
          "Tecno",
          "Lyf",
          "Letv",
          "Blackview BV5200 Pro",
          "LeEco S1 Pro",
          "iKall",
          "Micromax",
          "Vertu Signature Touch",
          "TCL Ion X"
         ],
         "xaxis": "x",
         "y": [
          89,
          88,
          88,
          87,
          87,
          86,
          85.71428571428571,
          85.5,
          85.2,
          85,
          84.33333333333333,
          84,
          83,
          82.21875,
          81.83333333333333,
          80.66666666666667,
          80.26666666666667,
          79.9423076923077,
          78.75862068965517,
          78.71851851851852,
          78.6829268292683,
          78.63636363636364,
          78,
          78,
          78,
          78,
          78,
          78,
          77.42857142857143,
          77.33333333333333,
          77.28571428571429,
          77.27027027027027,
          77.1875,
          76.875,
          76.87234042553192,
          76.52577319587628,
          76.34482758620689,
          75.25,
          75.2,
          74.33333333333333,
          74,
          73.93939393939394,
          72,
          72,
          67,
          65,
          65,
          64.66666666666667,
          62,
          60
         ],
         "yaxis": "y"
        }
       ],
       "layout": {
        "barmode": "relative",
        "coloraxis": {
         "colorbar": {
          "title": {
           "text": "rating"
          }
         },
         "colorscale": [
          [
           0,
           "#0d0887"
          ],
          [
           0.1111111111111111,
           "#46039f"
          ],
          [
           0.2222222222222222,
           "#7201a8"
          ],
          [
           0.3333333333333333,
           "#9c179e"
          ],
          [
           0.4444444444444444,
           "#bd3786"
          ],
          [
           0.5555555555555556,
           "#d8576b"
          ],
          [
           0.6666666666666666,
           "#ed7953"
          ],
          [
           0.7777777777777778,
           "#fb9f3a"
          ],
          [
           0.8888888888888888,
           "#fdca26"
          ],
          [
           1,
           "#f0f921"
          ]
         ]
        },
        "legend": {
         "tracegroupgap": 0
        },
        "template": {
         "data": {
          "bar": [
           {
            "error_x": {
             "color": "#2a3f5f"
            },
            "error_y": {
             "color": "#2a3f5f"
            },
            "marker": {
             "line": {
              "color": "#E5ECF6",
              "width": 0.5
             },
             "pattern": {
              "fillmode": "overlay",
              "size": 10,
              "solidity": 0.2
             }
            },
            "type": "bar"
           }
          ],
          "barpolar": [
           {
            "marker": {
             "line": {
              "color": "#E5ECF6",
              "width": 0.5
             },
             "pattern": {
              "fillmode": "overlay",
              "size": 10,
              "solidity": 0.2
             }
            },
            "type": "barpolar"
           }
          ],
          "carpet": [
           {
            "aaxis": {
             "endlinecolor": "#2a3f5f",
             "gridcolor": "white",
             "linecolor": "white",
             "minorgridcolor": "white",
             "startlinecolor": "#2a3f5f"
            },
            "baxis": {
             "endlinecolor": "#2a3f5f",
             "gridcolor": "white",
             "linecolor": "white",
             "minorgridcolor": "white",
             "startlinecolor": "#2a3f5f"
            },
            "type": "carpet"
           }
          ],
          "choropleth": [
           {
            "colorbar": {
             "outlinewidth": 0,
             "ticks": ""
            },
            "type": "choropleth"
           }
          ],
          "contour": [
           {
            "colorbar": {
             "outlinewidth": 0,
             "ticks": ""
            },
            "colorscale": [
             [
              0,
              "#0d0887"
             ],
             [
              0.1111111111111111,
              "#46039f"
             ],
             [
              0.2222222222222222,
              "#7201a8"
             ],
             [
              0.3333333333333333,
              "#9c179e"
             ],
             [
              0.4444444444444444,
              "#bd3786"
             ],
             [
              0.5555555555555556,
              "#d8576b"
             ],
             [
              0.6666666666666666,
              "#ed7953"
             ],
             [
              0.7777777777777778,
              "#fb9f3a"
             ],
             [
              0.8888888888888888,
              "#fdca26"
             ],
             [
              1,
              "#f0f921"
             ]
            ],
            "type": "contour"
           }
          ],
          "contourcarpet": [
           {
            "colorbar": {
             "outlinewidth": 0,
             "ticks": ""
            },
            "type": "contourcarpet"
           }
          ],
          "heatmap": [
           {
            "colorbar": {
             "outlinewidth": 0,
             "ticks": ""
            },
            "colorscale": [
             [
              0,
              "#0d0887"
             ],
             [
              0.1111111111111111,
              "#46039f"
             ],
             [
              0.2222222222222222,
              "#7201a8"
             ],
             [
              0.3333333333333333,
              "#9c179e"
             ],
             [
              0.4444444444444444,
              "#bd3786"
             ],
             [
              0.5555555555555556,
              "#d8576b"
             ],
             [
              0.6666666666666666,
              "#ed7953"
             ],
             [
              0.7777777777777778,
              "#fb9f3a"
             ],
             [
              0.8888888888888888,
              "#fdca26"
             ],
             [
              1,
              "#f0f921"
             ]
            ],
            "type": "heatmap"
           }
          ],
          "heatmapgl": [
           {
            "colorbar": {
             "outlinewidth": 0,
             "ticks": ""
            },
            "colorscale": [
             [
              0,
              "#0d0887"
             ],
             [
              0.1111111111111111,
              "#46039f"
             ],
             [
              0.2222222222222222,
              "#7201a8"
             ],
             [
              0.3333333333333333,
              "#9c179e"
             ],
             [
              0.4444444444444444,
              "#bd3786"
             ],
             [
              0.5555555555555556,
              "#d8576b"
             ],
             [
              0.6666666666666666,
              "#ed7953"
             ],
             [
              0.7777777777777778,
              "#fb9f3a"
             ],
             [
              0.8888888888888888,
              "#fdca26"
             ],
             [
              1,
              "#f0f921"
             ]
            ],
            "type": "heatmapgl"
           }
          ],
          "histogram": [
           {
            "marker": {
             "pattern": {
              "fillmode": "overlay",
              "size": 10,
              "solidity": 0.2
             }
            },
            "type": "histogram"
           }
          ],
          "histogram2d": [
           {
            "colorbar": {
             "outlinewidth": 0,
             "ticks": ""
            },
            "colorscale": [
             [
              0,
              "#0d0887"
             ],
             [
              0.1111111111111111,
              "#46039f"
             ],
             [
              0.2222222222222222,
              "#7201a8"
             ],
             [
              0.3333333333333333,
              "#9c179e"
             ],
             [
              0.4444444444444444,
              "#bd3786"
             ],
             [
              0.5555555555555556,
              "#d8576b"
             ],
             [
              0.6666666666666666,
              "#ed7953"
             ],
             [
              0.7777777777777778,
              "#fb9f3a"
             ],
             [
              0.8888888888888888,
              "#fdca26"
             ],
             [
              1,
              "#f0f921"
             ]
            ],
            "type": "histogram2d"
           }
          ],
          "histogram2dcontour": [
           {
            "colorbar": {
             "outlinewidth": 0,
             "ticks": ""
            },
            "colorscale": [
             [
              0,
              "#0d0887"
             ],
             [
              0.1111111111111111,
              "#46039f"
             ],
             [
              0.2222222222222222,
              "#7201a8"
             ],
             [
              0.3333333333333333,
              "#9c179e"
             ],
             [
              0.4444444444444444,
              "#bd3786"
             ],
             [
              0.5555555555555556,
              "#d8576b"
             ],
             [
              0.6666666666666666,
              "#ed7953"
             ],
             [
              0.7777777777777778,
              "#fb9f3a"
             ],
             [
              0.8888888888888888,
              "#fdca26"
             ],
             [
              1,
              "#f0f921"
             ]
            ],
            "type": "histogram2dcontour"
           }
          ],
          "mesh3d": [
           {
            "colorbar": {
             "outlinewidth": 0,
             "ticks": ""
            },
            "type": "mesh3d"
           }
          ],
          "parcoords": [
           {
            "line": {
             "colorbar": {
              "outlinewidth": 0,
              "ticks": ""
             }
            },
            "type": "parcoords"
           }
          ],
          "pie": [
           {
            "automargin": true,
            "type": "pie"
           }
          ],
          "scatter": [
           {
            "fillpattern": {
             "fillmode": "overlay",
             "size": 10,
             "solidity": 0.2
            },
            "type": "scatter"
           }
          ],
          "scatter3d": [
           {
            "line": {
             "colorbar": {
              "outlinewidth": 0,
              "ticks": ""
             }
            },
            "marker": {
             "colorbar": {
              "outlinewidth": 0,
              "ticks": ""
             }
            },
            "type": "scatter3d"
           }
          ],
          "scattercarpet": [
           {
            "marker": {
             "colorbar": {
              "outlinewidth": 0,
              "ticks": ""
             }
            },
            "type": "scattercarpet"
           }
          ],
          "scattergeo": [
           {
            "marker": {
             "colorbar": {
              "outlinewidth": 0,
              "ticks": ""
             }
            },
            "type": "scattergeo"
           }
          ],
          "scattergl": [
           {
            "marker": {
             "colorbar": {
              "outlinewidth": 0,
              "ticks": ""
             }
            },
            "type": "scattergl"
           }
          ],
          "scattermapbox": [
           {
            "marker": {
             "colorbar": {
              "outlinewidth": 0,
              "ticks": ""
             }
            },
            "type": "scattermapbox"
           }
          ],
          "scatterpolar": [
           {
            "marker": {
             "colorbar": {
              "outlinewidth": 0,
              "ticks": ""
             }
            },
            "type": "scatterpolar"
           }
          ],
          "scatterpolargl": [
           {
            "marker": {
             "colorbar": {
              "outlinewidth": 0,
              "ticks": ""
             }
            },
            "type": "scatterpolargl"
           }
          ],
          "scatterternary": [
           {
            "marker": {
             "colorbar": {
              "outlinewidth": 0,
              "ticks": ""
             }
            },
            "type": "scatterternary"
           }
          ],
          "surface": [
           {
            "colorbar": {
             "outlinewidth": 0,
             "ticks": ""
            },
            "colorscale": [
             [
              0,
              "#0d0887"
             ],
             [
              0.1111111111111111,
              "#46039f"
             ],
             [
              0.2222222222222222,
              "#7201a8"
             ],
             [
              0.3333333333333333,
              "#9c179e"
             ],
             [
              0.4444444444444444,
              "#bd3786"
             ],
             [
              0.5555555555555556,
              "#d8576b"
             ],
             [
              0.6666666666666666,
              "#ed7953"
             ],
             [
              0.7777777777777778,
              "#fb9f3a"
             ],
             [
              0.8888888888888888,
              "#fdca26"
             ],
             [
              1,
              "#f0f921"
             ]
            ],
            "type": "surface"
           }
          ],
          "table": [
           {
            "cells": {
             "fill": {
              "color": "#EBF0F8"
             },
             "line": {
              "color": "white"
             }
            },
            "header": {
             "fill": {
              "color": "#C8D4E3"
             },
             "line": {
              "color": "white"
             }
            },
            "type": "table"
           }
          ]
         },
         "layout": {
          "annotationdefaults": {
           "arrowcolor": "#2a3f5f",
           "arrowhead": 0,
           "arrowwidth": 1
          },
          "autotypenumbers": "strict",
          "coloraxis": {
           "colorbar": {
            "outlinewidth": 0,
            "ticks": ""
           }
          },
          "colorscale": {
           "diverging": [
            [
             0,
             "#8e0152"
            ],
            [
             0.1,
             "#c51b7d"
            ],
            [
             0.2,
             "#de77ae"
            ],
            [
             0.3,
             "#f1b6da"
            ],
            [
             0.4,
             "#fde0ef"
            ],
            [
             0.5,
             "#f7f7f7"
            ],
            [
             0.6,
             "#e6f5d0"
            ],
            [
             0.7,
             "#b8e186"
            ],
            [
             0.8,
             "#7fbc41"
            ],
            [
             0.9,
             "#4d9221"
            ],
            [
             1,
             "#276419"
            ]
           ],
           "sequential": [
            [
             0,
             "#0d0887"
            ],
            [
             0.1111111111111111,
             "#46039f"
            ],
            [
             0.2222222222222222,
             "#7201a8"
            ],
            [
             0.3333333333333333,
             "#9c179e"
            ],
            [
             0.4444444444444444,
             "#bd3786"
            ],
            [
             0.5555555555555556,
             "#d8576b"
            ],
            [
             0.6666666666666666,
             "#ed7953"
            ],
            [
             0.7777777777777778,
             "#fb9f3a"
            ],
            [
             0.8888888888888888,
             "#fdca26"
            ],
            [
             1,
             "#f0f921"
            ]
           ],
           "sequentialminus": [
            [
             0,
             "#0d0887"
            ],
            [
             0.1111111111111111,
             "#46039f"
            ],
            [
             0.2222222222222222,
             "#7201a8"
            ],
            [
             0.3333333333333333,
             "#9c179e"
            ],
            [
             0.4444444444444444,
             "#bd3786"
            ],
            [
             0.5555555555555556,
             "#d8576b"
            ],
            [
             0.6666666666666666,
             "#ed7953"
            ],
            [
             0.7777777777777778,
             "#fb9f3a"
            ],
            [
             0.8888888888888888,
             "#fdca26"
            ],
            [
             1,
             "#f0f921"
            ]
           ]
          },
          "colorway": [
           "#636efa",
           "#EF553B",
           "#00cc96",
           "#ab63fa",
           "#FFA15A",
           "#19d3f3",
           "#FF6692",
           "#B6E880",
           "#FF97FF",
           "#FECB52"
          ],
          "font": {
           "color": "#2a3f5f"
          },
          "geo": {
           "bgcolor": "white",
           "lakecolor": "white",
           "landcolor": "#E5ECF6",
           "showlakes": true,
           "showland": true,
           "subunitcolor": "white"
          },
          "hoverlabel": {
           "align": "left"
          },
          "hovermode": "closest",
          "mapbox": {
           "style": "light"
          },
          "paper_bgcolor": "white",
          "plot_bgcolor": "#E5ECF6",
          "polar": {
           "angularaxis": {
            "gridcolor": "white",
            "linecolor": "white",
            "ticks": ""
           },
           "bgcolor": "#E5ECF6",
           "radialaxis": {
            "gridcolor": "white",
            "linecolor": "white",
            "ticks": ""
           }
          },
          "scene": {
           "xaxis": {
            "backgroundcolor": "#E5ECF6",
            "gridcolor": "white",
            "gridwidth": 2,
            "linecolor": "white",
            "showbackground": true,
            "ticks": "",
            "zerolinecolor": "white"
           },
           "yaxis": {
            "backgroundcolor": "#E5ECF6",
            "gridcolor": "white",
            "gridwidth": 2,
            "linecolor": "white",
            "showbackground": true,
            "ticks": "",
            "zerolinecolor": "white"
           },
           "zaxis": {
            "backgroundcolor": "#E5ECF6",
            "gridcolor": "white",
            "gridwidth": 2,
            "linecolor": "white",
            "showbackground": true,
            "ticks": "",
            "zerolinecolor": "white"
           }
          },
          "shapedefaults": {
           "line": {
            "color": "#2a3f5f"
           }
          },
          "ternary": {
           "aaxis": {
            "gridcolor": "white",
            "linecolor": "white",
            "ticks": ""
           },
           "baxis": {
            "gridcolor": "white",
            "linecolor": "white",
            "ticks": ""
           },
           "bgcolor": "#E5ECF6",
           "caxis": {
            "gridcolor": "white",
            "linecolor": "white",
            "ticks": ""
           }
          },
          "title": {
           "x": 0.05
          },
          "xaxis": {
           "automargin": true,
           "gridcolor": "white",
           "linecolor": "white",
           "ticks": "",
           "title": {
            "standoff": 15
           },
           "zerolinecolor": "white",
           "zerolinewidth": 2
          },
          "yaxis": {
           "automargin": true,
           "gridcolor": "white",
           "linecolor": "white",
           "ticks": "",
           "title": {
            "standoff": 15
           },
           "zerolinecolor": "white",
           "zerolinewidth": 2
          }
         }
        },
        "title": {
         "text": "Model vs Rating"
        },
        "xaxis": {
         "anchor": "y",
         "domain": [
          0,
          1
         ],
         "title": {
          "text": "model"
         }
        },
        "yaxis": {
         "anchor": "x",
         "domain": [
          0,
          1
         ],
         "title": {
          "text": "rating"
         }
        }
       }
      },
      "text/html": [
       "<div>                            <div id=\"8163ccfe-de70-4c20-874b-c3c2c8656859\" class=\"plotly-graph-div\" style=\"height:525px; width:100%;\"></div>            <script type=\"text/javascript\">                require([\"plotly\"], function(Plotly) {                    window.PLOTLYENV=window.PLOTLYENV || {};                                    if (document.getElementById(\"8163ccfe-de70-4c20-874b-c3c2c8656859\")) {                    Plotly.newPlot(                        \"8163ccfe-de70-4c20-874b-c3c2c8656859\",                        [{\"alignmentgroup\":\"True\",\"hovertemplate\":\"model=%{x}<br>rating=%{marker.color}<extra></extra>\",\"legendgroup\":\"\",\"marker\":{\"color\":[89.0,88.0,88.0,87.0,87.0,86.0,85.71428571428571,85.5,85.2,85.0,84.33333333333333,84.0,83.0,82.21875,81.83333333333333,80.66666666666667,80.26666666666667,79.9423076923077,78.75862068965517,78.71851851851852,78.6829268292683,78.63636363636364,78.0,78.0,78.0,78.0,78.0,78.0,77.42857142857143,77.33333333333333,77.28571428571429,77.27027027027027,77.1875,76.875,76.87234042553192,76.52577319587628,76.34482758620689,75.25,75.2,74.33333333333333,74.0,73.93939393939394,72.0,72.0,67.0,65.0,65.0,64.66666666666667,62.0,60.0],\"coloraxis\":\"coloraxis\",\"pattern\":{\"shape\":\"\"}},\"name\":\"\",\"offsetgroup\":\"\",\"orientation\":\"v\",\"showlegend\":false,\"textposition\":\"auto\",\"x\":[\"Leitz Phone 2\",\"Sharp Aquos R5G\",\"Lenovo\",\"Royole FlexPai 2\",\"Royole FlexPai 3 5G\",\"Doogee\",\"Asus\",\"ZTE\",\"Nothing\",\"BLU F91 5G\",\"Nubia\",\"LG\",\"Tesla Pi Phone\",\"iQOO\",\"OnePlus\",\"Sony\",\"Huawei\",\"Motorola\",\"Oppo\",\"Xiaomi\",\"POCO\",\"Samsung\",\"XTouch F40 Flip\",\"Eunity U1 5605N\",\"Duoqin F22 Pro\",\"DIZO Star 500\",\"CAT S22 Flip\",\"BlackZone Ultra 4G\",\"Google\",\"Redmi\",\"Honor\",\"Vivo\",\"itel\",\"Nokia\",\"Apple\",\"Realme\",\"Infinix\",\"Lava\",\"Jio\",\"Gionee\",\"Cola Phone\",\"Tecno\",\"Lyf\",\"Letv\",\"Blackview BV5200 Pro\",\"LeEco S1 Pro\",\"iKall\",\"Micromax\",\"Vertu Signature Touch\",\"TCL Ion X\"],\"xaxis\":\"x\",\"y\":[89.0,88.0,88.0,87.0,87.0,86.0,85.71428571428571,85.5,85.2,85.0,84.33333333333333,84.0,83.0,82.21875,81.83333333333333,80.66666666666667,80.26666666666667,79.9423076923077,78.75862068965517,78.71851851851852,78.6829268292683,78.63636363636364,78.0,78.0,78.0,78.0,78.0,78.0,77.42857142857143,77.33333333333333,77.28571428571429,77.27027027027027,77.1875,76.875,76.87234042553192,76.52577319587628,76.34482758620689,75.25,75.2,74.33333333333333,74.0,73.93939393939394,72.0,72.0,67.0,65.0,65.0,64.66666666666667,62.0,60.0],\"yaxis\":\"y\",\"type\":\"bar\"}],                        {\"template\":{\"data\":{\"histogram2dcontour\":[{\"type\":\"histogram2dcontour\",\"colorbar\":{\"outlinewidth\":0,\"ticks\":\"\"},\"colorscale\":[[0.0,\"#0d0887\"],[0.1111111111111111,\"#46039f\"],[0.2222222222222222,\"#7201a8\"],[0.3333333333333333,\"#9c179e\"],[0.4444444444444444,\"#bd3786\"],[0.5555555555555556,\"#d8576b\"],[0.6666666666666666,\"#ed7953\"],[0.7777777777777778,\"#fb9f3a\"],[0.8888888888888888,\"#fdca26\"],[1.0,\"#f0f921\"]]}],\"choropleth\":[{\"type\":\"choropleth\",\"colorbar\":{\"outlinewidth\":0,\"ticks\":\"\"}}],\"histogram2d\":[{\"type\":\"histogram2d\",\"colorbar\":{\"outlinewidth\":0,\"ticks\":\"\"},\"colorscale\":[[0.0,\"#0d0887\"],[0.1111111111111111,\"#46039f\"],[0.2222222222222222,\"#7201a8\"],[0.3333333333333333,\"#9c179e\"],[0.4444444444444444,\"#bd3786\"],[0.5555555555555556,\"#d8576b\"],[0.6666666666666666,\"#ed7953\"],[0.7777777777777778,\"#fb9f3a\"],[0.8888888888888888,\"#fdca26\"],[1.0,\"#f0f921\"]]}],\"heatmap\":[{\"type\":\"heatmap\",\"colorbar\":{\"outlinewidth\":0,\"ticks\":\"\"},\"colorscale\":[[0.0,\"#0d0887\"],[0.1111111111111111,\"#46039f\"],[0.2222222222222222,\"#7201a8\"],[0.3333333333333333,\"#9c179e\"],[0.4444444444444444,\"#bd3786\"],[0.5555555555555556,\"#d8576b\"],[0.6666666666666666,\"#ed7953\"],[0.7777777777777778,\"#fb9f3a\"],[0.8888888888888888,\"#fdca26\"],[1.0,\"#f0f921\"]]}],\"heatmapgl\":[{\"type\":\"heatmapgl\",\"colorbar\":{\"outlinewidth\":0,\"ticks\":\"\"},\"colorscale\":[[0.0,\"#0d0887\"],[0.1111111111111111,\"#46039f\"],[0.2222222222222222,\"#7201a8\"],[0.3333333333333333,\"#9c179e\"],[0.4444444444444444,\"#bd3786\"],[0.5555555555555556,\"#d8576b\"],[0.6666666666666666,\"#ed7953\"],[0.7777777777777778,\"#fb9f3a\"],[0.8888888888888888,\"#fdca26\"],[1.0,\"#f0f921\"]]}],\"contourcarpet\":[{\"type\":\"contourcarpet\",\"colorbar\":{\"outlinewidth\":0,\"ticks\":\"\"}}],\"contour\":[{\"type\":\"contour\",\"colorbar\":{\"outlinewidth\":0,\"ticks\":\"\"},\"colorscale\":[[0.0,\"#0d0887\"],[0.1111111111111111,\"#46039f\"],[0.2222222222222222,\"#7201a8\"],[0.3333333333333333,\"#9c179e\"],[0.4444444444444444,\"#bd3786\"],[0.5555555555555556,\"#d8576b\"],[0.6666666666666666,\"#ed7953\"],[0.7777777777777778,\"#fb9f3a\"],[0.8888888888888888,\"#fdca26\"],[1.0,\"#f0f921\"]]}],\"surface\":[{\"type\":\"surface\",\"colorbar\":{\"outlinewidth\":0,\"ticks\":\"\"},\"colorscale\":[[0.0,\"#0d0887\"],[0.1111111111111111,\"#46039f\"],[0.2222222222222222,\"#7201a8\"],[0.3333333333333333,\"#9c179e\"],[0.4444444444444444,\"#bd3786\"],[0.5555555555555556,\"#d8576b\"],[0.6666666666666666,\"#ed7953\"],[0.7777777777777778,\"#fb9f3a\"],[0.8888888888888888,\"#fdca26\"],[1.0,\"#f0f921\"]]}],\"mesh3d\":[{\"type\":\"mesh3d\",\"colorbar\":{\"outlinewidth\":0,\"ticks\":\"\"}}],\"scatter\":[{\"fillpattern\":{\"fillmode\":\"overlay\",\"size\":10,\"solidity\":0.2},\"type\":\"scatter\"}],\"parcoords\":[{\"type\":\"parcoords\",\"line\":{\"colorbar\":{\"outlinewidth\":0,\"ticks\":\"\"}}}],\"scatterpolargl\":[{\"type\":\"scatterpolargl\",\"marker\":{\"colorbar\":{\"outlinewidth\":0,\"ticks\":\"\"}}}],\"bar\":[{\"error_x\":{\"color\":\"#2a3f5f\"},\"error_y\":{\"color\":\"#2a3f5f\"},\"marker\":{\"line\":{\"color\":\"#E5ECF6\",\"width\":0.5},\"pattern\":{\"fillmode\":\"overlay\",\"size\":10,\"solidity\":0.2}},\"type\":\"bar\"}],\"scattergeo\":[{\"type\":\"scattergeo\",\"marker\":{\"colorbar\":{\"outlinewidth\":0,\"ticks\":\"\"}}}],\"scatterpolar\":[{\"type\":\"scatterpolar\",\"marker\":{\"colorbar\":{\"outlinewidth\":0,\"ticks\":\"\"}}}],\"histogram\":[{\"marker\":{\"pattern\":{\"fillmode\":\"overlay\",\"size\":10,\"solidity\":0.2}},\"type\":\"histogram\"}],\"scattergl\":[{\"type\":\"scattergl\",\"marker\":{\"colorbar\":{\"outlinewidth\":0,\"ticks\":\"\"}}}],\"scatter3d\":[{\"type\":\"scatter3d\",\"line\":{\"colorbar\":{\"outlinewidth\":0,\"ticks\":\"\"}},\"marker\":{\"colorbar\":{\"outlinewidth\":0,\"ticks\":\"\"}}}],\"scattermapbox\":[{\"type\":\"scattermapbox\",\"marker\":{\"colorbar\":{\"outlinewidth\":0,\"ticks\":\"\"}}}],\"scatterternary\":[{\"type\":\"scatterternary\",\"marker\":{\"colorbar\":{\"outlinewidth\":0,\"ticks\":\"\"}}}],\"scattercarpet\":[{\"type\":\"scattercarpet\",\"marker\":{\"colorbar\":{\"outlinewidth\":0,\"ticks\":\"\"}}}],\"carpet\":[{\"aaxis\":{\"endlinecolor\":\"#2a3f5f\",\"gridcolor\":\"white\",\"linecolor\":\"white\",\"minorgridcolor\":\"white\",\"startlinecolor\":\"#2a3f5f\"},\"baxis\":{\"endlinecolor\":\"#2a3f5f\",\"gridcolor\":\"white\",\"linecolor\":\"white\",\"minorgridcolor\":\"white\",\"startlinecolor\":\"#2a3f5f\"},\"type\":\"carpet\"}],\"table\":[{\"cells\":{\"fill\":{\"color\":\"#EBF0F8\"},\"line\":{\"color\":\"white\"}},\"header\":{\"fill\":{\"color\":\"#C8D4E3\"},\"line\":{\"color\":\"white\"}},\"type\":\"table\"}],\"barpolar\":[{\"marker\":{\"line\":{\"color\":\"#E5ECF6\",\"width\":0.5},\"pattern\":{\"fillmode\":\"overlay\",\"size\":10,\"solidity\":0.2}},\"type\":\"barpolar\"}],\"pie\":[{\"automargin\":true,\"type\":\"pie\"}]},\"layout\":{\"autotypenumbers\":\"strict\",\"colorway\":[\"#636efa\",\"#EF553B\",\"#00cc96\",\"#ab63fa\",\"#FFA15A\",\"#19d3f3\",\"#FF6692\",\"#B6E880\",\"#FF97FF\",\"#FECB52\"],\"font\":{\"color\":\"#2a3f5f\"},\"hovermode\":\"closest\",\"hoverlabel\":{\"align\":\"left\"},\"paper_bgcolor\":\"white\",\"plot_bgcolor\":\"#E5ECF6\",\"polar\":{\"bgcolor\":\"#E5ECF6\",\"angularaxis\":{\"gridcolor\":\"white\",\"linecolor\":\"white\",\"ticks\":\"\"},\"radialaxis\":{\"gridcolor\":\"white\",\"linecolor\":\"white\",\"ticks\":\"\"}},\"ternary\":{\"bgcolor\":\"#E5ECF6\",\"aaxis\":{\"gridcolor\":\"white\",\"linecolor\":\"white\",\"ticks\":\"\"},\"baxis\":{\"gridcolor\":\"white\",\"linecolor\":\"white\",\"ticks\":\"\"},\"caxis\":{\"gridcolor\":\"white\",\"linecolor\":\"white\",\"ticks\":\"\"}},\"coloraxis\":{\"colorbar\":{\"outlinewidth\":0,\"ticks\":\"\"}},\"colorscale\":{\"sequential\":[[0.0,\"#0d0887\"],[0.1111111111111111,\"#46039f\"],[0.2222222222222222,\"#7201a8\"],[0.3333333333333333,\"#9c179e\"],[0.4444444444444444,\"#bd3786\"],[0.5555555555555556,\"#d8576b\"],[0.6666666666666666,\"#ed7953\"],[0.7777777777777778,\"#fb9f3a\"],[0.8888888888888888,\"#fdca26\"],[1.0,\"#f0f921\"]],\"sequentialminus\":[[0.0,\"#0d0887\"],[0.1111111111111111,\"#46039f\"],[0.2222222222222222,\"#7201a8\"],[0.3333333333333333,\"#9c179e\"],[0.4444444444444444,\"#bd3786\"],[0.5555555555555556,\"#d8576b\"],[0.6666666666666666,\"#ed7953\"],[0.7777777777777778,\"#fb9f3a\"],[0.8888888888888888,\"#fdca26\"],[1.0,\"#f0f921\"]],\"diverging\":[[0,\"#8e0152\"],[0.1,\"#c51b7d\"],[0.2,\"#de77ae\"],[0.3,\"#f1b6da\"],[0.4,\"#fde0ef\"],[0.5,\"#f7f7f7\"],[0.6,\"#e6f5d0\"],[0.7,\"#b8e186\"],[0.8,\"#7fbc41\"],[0.9,\"#4d9221\"],[1,\"#276419\"]]},\"xaxis\":{\"gridcolor\":\"white\",\"linecolor\":\"white\",\"ticks\":\"\",\"title\":{\"standoff\":15},\"zerolinecolor\":\"white\",\"automargin\":true,\"zerolinewidth\":2},\"yaxis\":{\"gridcolor\":\"white\",\"linecolor\":\"white\",\"ticks\":\"\",\"title\":{\"standoff\":15},\"zerolinecolor\":\"white\",\"automargin\":true,\"zerolinewidth\":2},\"scene\":{\"xaxis\":{\"backgroundcolor\":\"#E5ECF6\",\"gridcolor\":\"white\",\"linecolor\":\"white\",\"showbackground\":true,\"ticks\":\"\",\"zerolinecolor\":\"white\",\"gridwidth\":2},\"yaxis\":{\"backgroundcolor\":\"#E5ECF6\",\"gridcolor\":\"white\",\"linecolor\":\"white\",\"showbackground\":true,\"ticks\":\"\",\"zerolinecolor\":\"white\",\"gridwidth\":2},\"zaxis\":{\"backgroundcolor\":\"#E5ECF6\",\"gridcolor\":\"white\",\"linecolor\":\"white\",\"showbackground\":true,\"ticks\":\"\",\"zerolinecolor\":\"white\",\"gridwidth\":2}},\"shapedefaults\":{\"line\":{\"color\":\"#2a3f5f\"}},\"annotationdefaults\":{\"arrowcolor\":\"#2a3f5f\",\"arrowhead\":0,\"arrowwidth\":1},\"geo\":{\"bgcolor\":\"white\",\"landcolor\":\"#E5ECF6\",\"subunitcolor\":\"white\",\"showland\":true,\"showlakes\":true,\"lakecolor\":\"white\"},\"title\":{\"x\":0.05},\"mapbox\":{\"style\":\"light\"}}},\"xaxis\":{\"anchor\":\"y\",\"domain\":[0.0,1.0],\"title\":{\"text\":\"model\"}},\"yaxis\":{\"anchor\":\"x\",\"domain\":[0.0,1.0],\"title\":{\"text\":\"rating\"}},\"coloraxis\":{\"colorbar\":{\"title\":{\"text\":\"rating\"}},\"colorscale\":[[0.0,\"#0d0887\"],[0.1111111111111111,\"#46039f\"],[0.2222222222222222,\"#7201a8\"],[0.3333333333333333,\"#9c179e\"],[0.4444444444444444,\"#bd3786\"],[0.5555555555555556,\"#d8576b\"],[0.6666666666666666,\"#ed7953\"],[0.7777777777777778,\"#fb9f3a\"],[0.8888888888888888,\"#fdca26\"],[1.0,\"#f0f921\"]]},\"legend\":{\"tracegroupgap\":0},\"title\":{\"text\":\"Model vs Rating\"},\"barmode\":\"relative\"},                        {\"responsive\": true}                    ).then(function(){\n",
       "                            \n",
       "var gd = document.getElementById('8163ccfe-de70-4c20-874b-c3c2c8656859');\n",
       "var x = new MutationObserver(function (mutations, observer) {{\n",
       "        var display = window.getComputedStyle(gd).display;\n",
       "        if (!display || display === 'none') {{\n",
       "            console.log([gd, 'removed!']);\n",
       "            Plotly.purge(gd);\n",
       "            observer.disconnect();\n",
       "        }}\n",
       "}});\n",
       "\n",
       "// Listen for the removal of the full notebook cells\n",
       "var notebookContainer = gd.closest('#notebook-container');\n",
       "if (notebookContainer) {{\n",
       "    x.observe(notebookContainer, {childList: true});\n",
       "}}\n",
       "\n",
       "// Listen for the clearing of the current output cell\n",
       "var outputEl = gd.closest('.output');\n",
       "if (outputEl) {{\n",
       "    x.observe(outputEl, {childList: true});\n",
       "}}\n",
       "\n",
       "                        })                };                });            </script>        </div>"
      ]
     },
     "metadata": {},
     "output_type": "display_data"
    }
   ],
   "source": [
    "model_price=df_copy.groupby(by=\"model\")[\"rating\"].mean().sort_values(ascending=False).reset_index()\n",
    "px.bar(model_price,\"model\",\"rating\",color=\"rating\",title=\"Model vs Rating\")\n"
   ]
  }
 ],
 "metadata": {
  "kernelspec": {
   "display_name": "Python 3 (ipykernel)",
   "language": "python",
   "name": "python3"
  },
  "language_info": {
   "codemirror_mode": {
    "name": "ipython",
    "version": 3
   },
   "file_extension": ".py",
   "mimetype": "text/x-python",
   "name": "python",
   "nbconvert_exporter": "python",
   "pygments_lexer": "ipython3",
   "version": "3.11.5"
  }
 },
 "nbformat": 4,
 "nbformat_minor": 5
}
